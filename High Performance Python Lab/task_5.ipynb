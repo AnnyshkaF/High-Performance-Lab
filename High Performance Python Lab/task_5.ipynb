{
  "nbformat": 4,
  "nbformat_minor": 5,
  "metadata": {
    "kernelspec": {
      "display_name": "Python 3 (ipykernel)",
      "language": "python",
      "name": "python3"
    },
    "language_info": {
      "codemirror_mode": {
        "name": "ipython",
        "version": 3
      },
      "file_extension": ".py",
      "mimetype": "text/x-python",
      "name": "python",
      "nbconvert_exporter": "python",
      "pygments_lexer": "ipython3",
      "version": "3.8.10"
    },
    "colab": {
      "name": "task_5.ipynb",
      "provenance": [],
      "include_colab_link": true
    }
  },
  "cells": [
    {
      "cell_type": "markdown",
      "metadata": {
        "id": "view-in-github",
        "colab_type": "text"
      },
      "source": [
        "<a href=\"https://colab.research.google.com/github/AnnyshkaF/High-Performance-Lab/blob/main/task_5.ipynb\" target=\"_parent\"><img src=\"https://colab.research.google.com/assets/colab-badge.svg\" alt=\"Open In Colab\"/></a>"
      ]
    },
    {
      "cell_type": "code",
      "metadata": {
        "id": "5d93836d-09d5-4543-a9eb-3396471d2681",
        "outputId": "90dd27fc-9204-44d2-fae8-8cb7ec0c3bca"
      },
      "source": [
        "%pylab inline"
      ],
      "id": "5d93836d-09d5-4543-a9eb-3396471d2681",
      "execution_count": null,
      "outputs": [
        {
          "name": "stdout",
          "output_type": "stream",
          "text": [
            "Populating the interactive namespace from numpy and matplotlib\n"
          ]
        }
      ]
    },
    {
      "cell_type": "markdown",
      "metadata": {
        "id": "q8-4WfjrkcSO"
      },
      "source": [
        "#Implement parallel computation of bifurcation map"
      ],
      "id": "q8-4WfjrkcSO"
    },
    {
      "cell_type": "code",
      "metadata": {
        "id": "14842fd3-1aec-470b-973c-06b74463731a",
        "outputId": "4703b988-82aa-4ab7-8eea-6940f83e27d7"
      },
      "source": [
        "%%writefile task_5_test.py\n",
        "#try to parralell\n",
        "from mpi4py import MPI\n",
        "import matplotlib\n",
        "import matplotlib.pyplot as plt\n",
        "import numpy as np\n",
        "from random import random\n",
        "import time\n",
        "#import os \n",
        "#os.environ[\"OMP_NUM_THREADS\"] = \"1\"\n",
        "\n",
        "def map_fun(r, x):\n",
        "    return r*x*(1-x)\n",
        "\n",
        "x_i = random()  #initial value of x\n",
        "n = 200  #number of iterations\n",
        "last = 200  #number of last values that we take into account\n",
        "number_r = 10000\n",
        "\n",
        "comm = MPI.COMM_WORLD #create a communicator\n",
        "rank = comm.Get_rank() #rank of executing process\n",
        "size = comm.Get_size() #gives number of ranks in comm\n",
        "#print(\"my rank is \", rank)\n",
        "\n",
        "t1 = MPI.Wtime()\n",
        "r_values = np.linspace(0, 4, number_r)\n",
        "r_list = np.array_split(r_values,size)[rank]\n",
        "numDataPerRank = int((r_values.size)/size)\n",
        "\n",
        "if(rank == 0):\n",
        "    start = time.time()\n",
        "\n",
        "#sendbuf = np.array([])\n",
        "sendbuf = []\n",
        "R = []\n",
        "x_n = []\n",
        "#for r in r_values[rank*numDataPerRank: (rank+1)*numDataPerRank]:\n",
        "for r in r_list:\n",
        "    x_i = random()\n",
        "    for i in range(n+last):\n",
        "        x_i = map_fun(r, x_i)\n",
        "        if i >= n:\n",
        "            x_n.append(x_i)\n",
        "            R.append(r)\n",
        "\n",
        "\n",
        "sendbuf = x_n\n",
        "  \n",
        "t2 = MPI.Wtime()        \n",
        "#comm.Gather(sendbuf, recvbuf, root=0)\n",
        "recieved_x = comm.gather(sendbuf,root=0) \n",
        "recieved_r = comm.gather(R,root=0) \n",
        "\n",
        "if rank == 0:\n",
        "    recv_x = np.hstack(recieved_x) \n",
        "    recv_r = np.hstack(recieved_r)\n",
        "    print('Time: {:.3f}s'.format(time.time() - start))\n",
        "    #print('Rank: ',rank, ', recvbuf received: ',recvbuf, ', size', len(recvbuf))\n",
        "    #fig = plt.figure()\n",
        "    #plt.plot(recv_r, recv_x, ls='',marker=',')\n",
        "    #plt.show()\n",
        "    #fig.savefig('Bifurcation map with n = {} processes'.format(size))"
      ],
      "id": "14842fd3-1aec-470b-973c-06b74463731a",
      "execution_count": null,
      "outputs": [
        {
          "name": "stdout",
          "output_type": "stream",
          "text": [
            "Writing task_5_test.py\n"
          ]
        }
      ]
    },
    {
      "cell_type": "code",
      "metadata": {
        "id": "e773de11-b104-4012-b116-9292caa22aea",
        "outputId": "a6c3009f-9fc3-4db0-8560-8931535a69f5"
      },
      "source": [
        "! mpirun --allow-run-as-root -n 1 python3 task_5_test.py"
      ],
      "id": "e773de11-b104-4012-b116-9292caa22aea",
      "execution_count": null,
      "outputs": [
        {
          "name": "stdout",
          "output_type": "stream",
          "text": [
            "Time: 8.310s\n"
          ]
        }
      ]
    },
    {
      "cell_type": "markdown",
      "metadata": {
        "id": "xmnST7KMkkct"
      },
      "source": [
        "#Plot speedup vs number of processes"
      ],
      "id": "xmnST7KMkkct"
    },
    {
      "cell_type": "code",
      "metadata": {
        "id": "2c307310-8a1e-4dc5-8dab-862a452ecf3a",
        "outputId": "b5cdfffc-5bb4-481b-9895-48e12eaabb62"
      },
      "source": [
        "time_arr = []\n",
        "for i in range(1, 8):\n",
        "    print(f'{i} process(es)\\n\\t', end='')\n",
        "    t = %timeit -o -r 3 !mpirun -n {i} --allow-run-as-root --mca btl ^vader python3 task_5_test.py\n",
        "    time_arr.append(t.best)"
      ],
      "id": "2c307310-8a1e-4dc5-8dab-862a452ecf3a",
      "execution_count": null,
      "outputs": [
        {
          "name": "stdout",
          "output_type": "stream",
          "text": [
            "1 process(es)\n",
            "\tTime: 8.110s\n",
            "Time: 8.222s\n",
            "Time: 8.418s\n",
            "Time: 8.116s\n",
            "10.1 s ± 117 ms per loop (mean ± std. dev. of 3 runs, 1 loop each)\n",
            "2 process(es)\n",
            "\tTime: 4.809s\n",
            "Time: 4.791s\n",
            "Time: 4.839s\n",
            "Time: 4.924s\n",
            "6.46 s ± 55.5 ms per loop (mean ± std. dev. of 3 runs, 1 loop each)\n",
            "3 process(es)\n",
            "\tTime: 3.610s\n",
            "Time: 3.646s\n",
            "Time: 3.717s\n",
            "Time: 3.599s\n",
            "5.29 s ± 68.9 ms per loop (mean ± std. dev. of 3 runs, 1 loop each)\n",
            "4 process(es)\n",
            "\tTime: 3.087s\n",
            "Time: 3.143s\n",
            "Time: 3.139s\n",
            "Time: 3.144s\n",
            "4.75 s ± 13.8 ms per loop (mean ± std. dev. of 3 runs, 1 loop each)\n",
            "5 process(es)\n",
            "\tTime: 2.654s\n",
            "Time: 2.665s\n",
            "Time: 2.638s\n",
            "Time: 2.676s\n",
            "4.3 s ± 21 ms per loop (mean ± std. dev. of 3 runs, 1 loop each)\n",
            "6 process(es)\n",
            "\tTime: 2.370s\n",
            "Time: 2.452s\n",
            "Time: 2.465s\n",
            "Time: 2.427s\n",
            "4.06 s ± 67 ms per loop (mean ± std. dev. of 3 runs, 1 loop each)\n",
            "7 process(es)\n",
            "\tTime: 2.286s\n",
            "Time: 2.212s\n",
            "Time: 2.265s\n",
            "Time: 2.195s\n",
            "3.85 s ± 26.1 ms per loop (mean ± std. dev. of 3 runs, 1 loop each)\n"
          ]
        }
      ]
    },
    {
      "cell_type": "code",
      "metadata": {
        "id": "9b0fd195-4435-45c5-b50e-ad2d1af4665e",
        "outputId": "1b6f21e3-16b7-459b-ea89-c6b2cb4c31ad"
      },
      "source": [
        "import matplotlib\n",
        "import matplotlib.pyplot as plt\n",
        "import numpy as np\n",
        "\n",
        "speedup = time_arr[0] / np.array(time_arr)\n",
        "num_of_processes = range(1, 8)\n",
        "\n",
        "plt.figure(figsize=(10, 8))\n",
        "plt.plot(num_of_processes, speedup)\n",
        "plt.xticks(num_of_processes)\n",
        "plt.xlabel('Np', fontsize = 20)\n",
        "plt.ylabel('Speedup = t1/tn', fontsize = 20)\n",
        "plt.suptitle('Speedup vs Np', fontsize = 20)"
      ],
      "id": "9b0fd195-4435-45c5-b50e-ad2d1af4665e",
      "execution_count": null,
      "outputs": [
        {
          "data": {
            "text/plain": [
              "Text(0.5, 0.98, 'Speedup vs Np')"
            ]
          },
          "execution_count": 22,
          "metadata": {},
          "output_type": "execute_result"
        },
        {
          "data": {
            "image/png": "[encoded data removed]",
            "text/plain": [
              "<Figure size 720x576 with 1 Axes>"
            ]
          },
          "metadata": {
            "needs_background": "light"
          },
          "output_type": "display_data"
        }
      ]
    }
  ]
}