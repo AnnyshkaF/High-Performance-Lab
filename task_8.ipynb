{
  "nbformat": 4,
  "nbformat_minor": 0,
  "metadata": {
    "colab": {
      "name": "task_8.ipynb",
      "provenance": [],
      "authorship_tag": "ABX9TyP2+7piFRAagpRWAMNwM9ff",
      "include_colab_link": true
    },
    "kernelspec": {
      "name": "python3",
      "display_name": "Python 3"
    },
    "language_info": {
      "name": "python"
    }
  },
  "cells": [
    {
      "cell_type": "markdown",
      "metadata": {
        "id": "view-in-github",
        "colab_type": "text"
      },
      "source": [
        "<a href=\"https://colab.research.google.com/github/AnnyshkaF/High-Performance-Lab/blob/main/task_8.ipynb\" target=\"_parent\"><img src=\"https://colab.research.google.com/assets/colab-badge.svg\" alt=\"Open In Colab\"/></a>"
      ]
    },
    {
      "cell_type": "code",
      "metadata": {
        "id": "Slox9mqFWXBQ"
      },
      "source": [
        "! pip install mpi4py"
      ],
      "execution_count": null,
      "outputs": []
    },
    {
      "cell_type": "code",
      "metadata": {
        "id": "V1VLFL4AWQHh"
      },
      "source": [
        "import subprocess\n",
        "import matplotlib.pyplot as plt\n",
        "import tqdm\n",
        "import numpy as np"
      ],
      "execution_count": 3,
      "outputs": []
    },
    {
      "cell_type": "code",
      "metadata": {
        "colab": {
          "base_uri": "https://localhost:8080/"
        },
        "id": "tSe0Rm5sWcVj",
        "outputId": "c0e90a89-bef8-4658-ad1b-ae6b57d67389"
      },
      "source": [
        "means = []\n",
        "stds = []\n",
        "for p in tqdm.trange(1, 8):\n",
        "    o = subprocess.run(\n",
        "        [\"mpirun\",\"--allow-run-as-root\",\"-n\", str(p), \"python3\", \"task8.py\", '-s', '4096', '-i', '50'], \n",
        "        universal_newlines=True, \n",
        "        stdout=subprocess.PIPE, \n",
        "        stderr=subprocess.PIPE)\n",
        "    res = list(map(float, o.stdout.strip().split(' ')))\n",
        "    means.append(res[0])\n",
        "    stds.append(res[1])"
      ],
      "execution_count": 21,
      "outputs": [
        {
          "output_type": "stream",
          "name": "stderr",
          "text": [
            "100%|██████████| 7/7 [02:22<00:00, 20.34s/it]\n"
          ]
        }
      ]
    },
    {
      "cell_type": "code",
      "metadata": {
        "colab": {
          "base_uri": "https://localhost:8080/"
        },
        "id": "y_nmoSXJXte0",
        "outputId": "24d5ad5f-4e54-4776-9128-7bbe19225d9a"
      },
      "source": [
        "! mpirun --allow-run-as-root -n  1 python3 task8.py -s 4096 -i 50"
      ],
      "execution_count": 20,
      "outputs": [
        {
          "output_type": "stream",
          "name": "stdout",
          "text": [
            "0.49436661720275876 0.01163102148786535\n"
          ]
        }
      ]
    },
    {
      "cell_type": "code",
      "metadata": {
        "id": "B5m_RE-oWdw0"
      },
      "source": [
        "means = np.array(means)"
      ],
      "execution_count": 22,
      "outputs": []
    },
    {
      "cell_type": "code",
      "metadata": {
        "colab": {
          "base_uri": "https://localhost:8080/",
          "height": 318
        },
        "id": "XeFRLGWEWeo4",
        "outputId": "084a38a1-94fb-4cdb-9de7-4c9bee28da07"
      },
      "source": [
        "plt.plot(range(1, 8), means[0] / means )\n",
        "plt.title('Time vs number of processes')\n",
        "plt.xlabel('N procc', size=15)\n",
        "plt.ylabel('Speedup')"
      ],
      "execution_count": 23,
      "outputs": [
        {
          "output_type": "execute_result",
          "data": {
            "text/plain": [
              "Text(0, 0.5, 'Speedup')"
            ]
          },
          "metadata": {},
          "execution_count": 23
        },
        {
          "output_type": "display_data",
          "data": {
            "image/png": "[encoded data removed]",
            "text/plain": [
              "<Figure size 432x288 with 1 Axes>"
            ]
          },
          "metadata": {
            "needs_background": "light"
          }
        }
      ]
    },
    {
      "cell_type": "code",
      "metadata": {
        "colab": {
          "base_uri": "https://localhost:8080/"
        },
        "id": "t3F-q9YeWmnc",
        "outputId": "23ecc9c3-debc-4e05-e940-fbcaca55f460"
      },
      "source": [
        "%%writefile task8.py\n",
        "\n",
        "from mpi4py import MPI\n",
        "import numpy as np\n",
        "import argparse\n",
        "import time\n",
        "# import tracemalloc\n",
        "\n",
        "comm = MPI.COMM_WORLD\n",
        "w_size = comm.Get_size() # new: gives number of ranks in comm\n",
        "rank = comm.Get_rank()\n",
        "IS_MASTER = rank == 0\n",
        "\n",
        "parser = argparse.ArgumentParser('Task8')\n",
        "parser.add_argument('-s', type=int, default=2**12, help='size of image')\n",
        "parser.add_argument('-i', type=int, default=50, help='num iters')\n",
        "FLAGS = parser.parse_args()\n",
        "FLAGS.s = (FLAGS.s // w_size) * w_size\n",
        "\n",
        "numDataPerRank = FLAGS.s // w_size  \n",
        "data = None\n",
        "received_data = None\n",
        "if IS_MASTER:\n",
        "    # data = np.random.randint(0,2,(FLAGS.s, FLAGS.s))\n",
        "    data = np.eye(FLAGS.s, dtype=int)\n",
        "    received_data = np.empty_like(data)\n",
        "    # print(data)\n",
        "received = np.empty((numDataPerRank, FLAGS.s), dtype=int) # allocate space for recvbuf\n",
        "\n",
        "def roll(arr):\n",
        "    # using not efficient function to show speedup\n",
        "    res = np.empty_like(arr)\n",
        "    w = arr.shape[1]\n",
        "    for i in range(w):\n",
        "        res[:, (i + 5) % w] = arr[:, i]\n",
        "    return res\n",
        "# tracemalloc.start()\n",
        "\n",
        "times = []\n",
        "for i in range(FLAGS.i):\n",
        "    start = time.time()\n",
        "    comm.Scatter(data, received, root=0)\n",
        "    received_rolled = roll(received)\n",
        "    comm.Gather(received_rolled, received_data, root=0)\n",
        "    end = time.time()\n",
        "    times.append(end - start)\n",
        "\n",
        "if IS_MASTER:\n",
        "    # current, peak = tracemalloc.get_traced_memory()\n",
        "    # print(\"Curr: {:.3f}. Peak: {:.3f}\".format(current / 2**10, peak / 2**10))\n",
        "    print(np.mean(times), np.std(times))\n",
        "\n",
        "# if IS_MASTER:\n",
        "#     print(received_data)"
      ],
      "execution_count": 2,
      "outputs": [
        {
          "output_type": "stream",
          "name": "stdout",
          "text": [
            "Writing task8.py\n"
          ]
        }
      ]
    }
  ]
}