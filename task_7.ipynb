{
  "nbformat": 4,
  "nbformat_minor": 5,
  "metadata": {
    "kernelspec": {
      "display_name": "Python 3 (ipykernel)",
      "language": "python",
      "name": "python3"
    },
    "language_info": {
      "codemirror_mode": {
        "name": "ipython",
        "version": 3
      },
      "file_extension": ".py",
      "mimetype": "text/x-python",
      "name": "python",
      "nbconvert_exporter": "python",
      "pygments_lexer": "ipython3",
      "version": "3.8.10"
    },
    "colab": {
      "name": "task_7.ipynb",
      "provenance": [],
      "include_colab_link": true
    }
  },
  "cells": [
    {
      "cell_type": "markdown",
      "metadata": {
        "id": "view-in-github",
        "colab_type": "text"
      },
      "source": [
        "<a href=\"https://colab.research.google.com/github/AnnyshkaF/High-Performance-Lab/blob/main/task_7.ipynb\" target=\"_parent\"><img src=\"https://colab.research.google.com/assets/colab-badge.svg\" alt=\"Open In Colab\"/></a>"
      ]
    },
    {
      "cell_type": "markdown",
      "metadata": {
        "id": "ybkbqm-hyRud"
      },
      "source": [
        "#Study an integral"
      ],
      "id": "ybkbqm-hyRud"
    },
    {
      "cell_type": "code",
      "metadata": {
        "id": "40249bc9-2a11-41da-8a82-40e6b26a5214"
      },
      "source": [
        "import numpy as np\n",
        "import matplotlib.pyplot as plt\n",
        "from task_7_test import integrate, f, g\n",
        "from mpi4py import MPI"
      ],
      "id": "40249bc9-2a11-41da-8a82-40e6b26a5214",
      "execution_count": null,
      "outputs": []
    },
    {
      "cell_type": "markdown",
      "metadata": {
        "id": "JmvfruSnyaND"
      },
      "source": [
        "**(1) Compute the value analytically**"
      ],
      "id": "JmvfruSnyaND"
    },
    {
      "cell_type": "markdown",
      "metadata": {
        "id": "Jl8u4Zi9xqfG"
      },
      "source": [
        "$S = \\displaystyle \\int_a^b \\displaystyle x^4 \\, dx$ , where $a = -3$ and $b = 3$\n",
        "\n",
        "Provide a parallel numerical computation of the integral $S$ using, for example, the trapezoidal approximation $\\displaystyle \\int_{a}^{b} f(x) \\approx S_D = \\displaystyle \\sum_{k = 1}^{N-1} \\displaystyle \\frac{f\\left(a + k \\,\\tau\\right)+ f\\left(a + \\left(k - 1\\right) \\tau\\right) }{2}\\,\\,\\tau$, where $ a + (N - 1)\\tau = b$\n",
        "Analytical expression $S = \\frac{x^5}{5} |_a^b$"
      ],
      "id": "Jl8u4Zi9xqfG"
    },
    {
      "cell_type": "markdown",
      "metadata": {
        "id": "SyGgmLRGxu2V"
      },
      "source": [
        "Suppose we set the limits of integration to $a = -3$ and $b = 3$. Then $S = \\frac{x^5}{5} |_{-3}^3 = 97.2$"
      ],
      "id": "SyGgmLRGxu2V"
    },
    {
      "cell_type": "markdown",
      "metadata": {
        "id": "_HTtAJhEyd7V"
      },
      "source": [
        "**(2) Compute the integral using trapezoidal rule**"
      ],
      "id": "_HTtAJhEyd7V"
    },
    {
      "cell_type": "code",
      "metadata": {
        "id": "3b0551ad-d60d-4925-a17f-1d7dc3ea7553"
      },
      "source": [
        "D_range = np.linspace(10, 10000, num=1000)\n",
        "limits = [-3, 3]\n",
        "S = g(limits[1]) - g(limits[0]) # exact value\n",
        "err = []\n",
        "for D in D_range:\n",
        "    dd = int(D)\n",
        "    S_d = integrate(f, limits=limits, num_steps=dd)\n",
        "    err.append(S - S_d)"
      ],
      "id": "3b0551ad-d60d-4925-a17f-1d7dc3ea7553",
      "execution_count": null,
      "outputs": []
    },
    {
      "cell_type": "code",
      "metadata": {
        "id": "30320b01-a79f-49ab-9e59-1de4b8a024ac",
        "outputId": "784855c9-c4e5-4f65-c529-32e28b9e0477"
      },
      "source": [
        "S_d"
      ],
      "id": "30320b01-a79f-49ab-9e59-1de4b8a024ac",
      "execution_count": null,
      "outputs": [
        {
          "data": {
            "text/plain": [
              "97.19030591676032"
            ]
          },
          "execution_count": 10,
          "metadata": {},
          "output_type": "execute_result"
        }
      ]
    },
    {
      "cell_type": "markdown",
      "metadata": {
        "id": "apm9RA2byi3X"
      },
      "source": [
        "**(5) Plot integration error vs the discretization size**"
      ],
      "id": "apm9RA2byi3X"
    },
    {
      "cell_type": "code",
      "metadata": {
        "id": "1f870cd1-c381-4787-a4e1-39bfd8a15624",
        "outputId": "72653891-36fc-4040-d5e0-14431d5a02c5"
      },
      "source": [
        "plt.semilogy(D_range, err, label=\"|S_d(D) - S|\")   \n",
        "plt.xlabel(\"# of steps\", fontsize=12)\n",
        "plt.ylabel(\"Err (logscale)\", fontsize=12)\n",
        "plt.legend()"
      ],
      "id": "1f870cd1-c381-4787-a4e1-39bfd8a15624",
      "execution_count": null,
      "outputs": [
        {
          "data": {
            "text/plain": [
              "<matplotlib.legend.Legend at 0x7f4ff8080520>"
            ]
          },
          "execution_count": 11,
          "metadata": {},
          "output_type": "execute_result"
        },
        {
          "data": {
            "image/png": "[encoded data removed]",
            "text/plain": [
              "<Figure size 432x288 with 1 Axes>"
            ]
          },
          "metadata": {
            "needs_background": "light"
          },
          "output_type": "display_data"
        }
      ]
    },
    {
      "cell_type": "markdown",
      "metadata": {
        "id": "kxYCiFQ6yoNb"
      },
      "source": [
        "**(3) Parallelize using MPI. You should be able to choose any number of MPI processes regardless of the number of discretization points**"
      ],
      "id": "kxYCiFQ6yoNb"
    },
    {
      "cell_type": "code",
      "metadata": {
        "id": "c112589a-bbaa-4fae-be39-2f6bcfd4539d",
        "outputId": "9cf27f66-6163-4436-f587-ea02786f77e7"
      },
      "source": [
        "time_arr = []\n",
        "for i in range(1, 7):\n",
        "    print(f'{i} process(es)\\n\\t', end='')\n",
        "    t = %timeit -o -r 3 !mpirun -n {i} --allow-run-as-root --mca btl ^vader python3 task_7_test.py\n",
        "    time_arr.append(t.best)"
      ],
      "id": "c112589a-bbaa-4fae-be39-2f6bcfd4539d",
      "execution_count": null,
      "outputs": [
        {
          "name": "stdout",
          "output_type": "stream",
          "text": [
            "1 process(es)\n",
            "\t277 ms ± 8.91 ms per loop (mean ± std. dev. of 3 runs, 1 loop each)\n",
            "2 process(es)\n",
            "\t271 ms ± 8.35 ms per loop (mean ± std. dev. of 3 runs, 1 loop each)\n",
            "3 process(es)\n",
            "\t265 ms ± 167 µs per loop (mean ± std. dev. of 3 runs, 1 loop each)\n",
            "4 process(es)\n",
            "\t271 ms ± 9.22 ms per loop (mean ± std. dev. of 3 runs, 1 loop each)\n",
            "5 process(es)\n",
            "\t277 ms ± 9.16 ms per loop (mean ± std. dev. of 3 runs, 1 loop each)\n",
            "6 process(es)\n",
            "\t265 ms ± 337 µs per loop (mean ± std. dev. of 3 runs, 1 loop each)\n"
          ]
        }
      ]
    },
    {
      "cell_type": "markdown",
      "metadata": {
        "id": "TMYR8cvAyukY"
      },
      "source": [
        "**(4) Plot the speedup vs number of processors**"
      ],
      "id": "TMYR8cvAyukY"
    },
    {
      "cell_type": "code",
      "metadata": {
        "id": "3ab88612-0c8e-4c1c-b1cf-b59f7e5983ab",
        "outputId": "9ea48316-7316-4a27-be75-9f7260180021"
      },
      "source": [
        "import matplotlib\n",
        "import matplotlib.pyplot as plt\n",
        "import numpy as np\n",
        "\n",
        "speedup = time_arr[0] / np.array(time_arr)\n",
        "num_of_processes = range(1, 7)\n",
        "\n",
        "plt.figure(figsize=(10, 8))\n",
        "plt.plot(num_of_processes, speedup)\n",
        "plt.xticks(num_of_processes)\n",
        "plt.xlabel('Np', fontsize = 20)\n",
        "plt.ylabel('Speedup = t1/tn', fontsize = 20)\n",
        "plt.suptitle('Speedup vs Np', fontsize = 20)"
      ],
      "id": "3ab88612-0c8e-4c1c-b1cf-b59f7e5983ab",
      "execution_count": null,
      "outputs": [
        {
          "data": {
            "text/plain": [
              "Text(0.5, 0.98, 'Speedup vs Np')"
            ]
          },
          "execution_count": 16,
          "metadata": {},
          "output_type": "execute_result"
        },
        {
          "data": {
            "image/png": "[encoded data removed]",
            "text/plain": [
              "<Figure size 720x576 with 1 Axes>"
            ]
          },
          "metadata": {
            "needs_background": "light"
          },
          "output_type": "display_data"
        }
      ]
    },
    {
      "cell_type": "markdown",
      "metadata": {
        "id": "o9M1Txl1yzTV"
      },
      "source": [
        "**Code for parallelization**"
      ],
      "id": "o9M1Txl1yzTV"
    },
    {
      "cell_type": "code",
      "metadata": {
        "id": "ae1ccc0a-3d5e-43dc-95c1-0ee6e559f18b",
        "outputId": "60ace0fc-50e2-4139-e25c-a359d71a9fac"
      },
      "source": [
        "%%writefile task_7_test.py\n",
        "\n",
        "import numpy as np\n",
        "import matplotlib.pyplot as plt\n",
        "import argparse\n",
        "from mpi4py import MPI\n",
        "\n",
        "def f(x):\n",
        "    return x**4\n",
        "\n",
        "def g(x):\n",
        "    return x**5/5\n",
        "\n",
        "\n",
        "def integrate(f, limits=(-3, 3), num_steps=10000000):\n",
        "    steps = np.linspace(limits[0], limits[1], num=num_steps, endpoint=True)\n",
        "    step_size = (limits[1] - limits[0]) / num_steps\n",
        "    func_values = [f(x) for x in steps]\n",
        "    result = (sum(func_values) * 2 - func_values[0] - func_values[1]) * 0.5 * step_size\n",
        "    return result\n",
        "\n",
        "\n",
        "def main(parallel=False):\n",
        "    if parallel:\n",
        "        comm = MPI.COMM_WORLD\n",
        "        rank = comm.Get_rank()\n",
        "        size = comm.Get_size()\n",
        "        print('size ', size)\n",
        "        all_nodes = np.linspace(-3, 3, num=size + 1)\n",
        "        \n",
        "        S_d = integrate(f, limits=all_nodes[rank:rank+2], num_steps=10000000)\n",
        "        comm.Barrier()\n",
        "\n",
        "        S_d = comm.gather(S_d, root=0)\n",
        "\n",
        "        if rank == 0:\n",
        "#             print(sum(S_d))\n",
        "            return sum(S_d)\n",
        "    else:\n",
        "        S_d = integrate(f, limits=(-3, 3), num_steps=100000000)\n",
        "#         print(S_d)\n",
        "        return S_d\n",
        "        \n",
        "    \n",
        "if __name__ == '__main__':\n",
        "    parser = argparse.ArgumentParser(\"Task 7\")\n",
        "    parser.add_argument(\"-parallel\",  help=\"0 - not parallel, 1 - parallel\", type=bool)\n",
        "    args = parser.parse_args()\n",
        "    main(args.parallel)"
      ],
      "id": "ae1ccc0a-3d5e-43dc-95c1-0ee6e559f18b",
      "execution_count": null,
      "outputs": [
        {
          "name": "stdout",
          "output_type": "stream",
          "text": [
            "Overwriting task_7_test.py\n"
          ]
        }
      ]
    }
  ]
}