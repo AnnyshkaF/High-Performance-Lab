{
  "nbformat": 4,
  "nbformat_minor": 0,
  "metadata": {
    "colab": {
      "name": "task_5.ipynb",
      "provenance": [],
      "collapsed_sections": [],
      "authorship_tag": "ABX9TyP/4zFZumZgEHHiCeyWyZ9l",
      "include_colab_link": true
    },
    "kernelspec": {
      "name": "python3",
      "display_name": "Python 3"
    },
    "language_info": {
      "name": "python"
    },
    "accelerator": "GPU"
  },
  "cells": [
    {
      "cell_type": "markdown",
      "metadata": {
        "id": "view-in-github",
        "colab_type": "text"
      },
      "source": [
        "<a href=\"https://colab.research.google.com/github/AnnyshkaF/High-Performance-Lab/blob/main/task_5.ipynb\" target=\"_parent\"><img src=\"https://colab.research.google.com/assets/colab-badge.svg\" alt=\"Open In Colab\"/></a>"
      ]
    },
    {
      "cell_type": "code",
      "metadata": {
        "colab": {
          "base_uri": "https://localhost:8080/"
        },
        "id": "u1mZnk_9Xy1D",
        "outputId": "e5e2b439-6b01-441c-a1d3-a3159e9c1db3"
      },
      "source": [
        "! pip install mpi4py"
      ],
      "execution_count": 3,
      "outputs": [
        {
          "output_type": "stream",
          "name": "stdout",
          "text": [
            "Collecting mpi4py\n",
            "  Downloading mpi4py-3.1.2.tar.gz (2.5 MB)\n",
            "\u001b[K     |████████████████████████████████| 2.5 MB 5.2 MB/s \n",
            "\u001b[?25h  Installing build dependencies ... \u001b[?25l\u001b[?25hdone\n",
            "  Getting requirements to build wheel ... \u001b[?25l\u001b[?25hdone\n",
            "    Preparing wheel metadata ... \u001b[?25l\u001b[?25hdone\n",
            "Building wheels for collected packages: mpi4py\n",
            "  Building wheel for mpi4py (PEP 517) ... \u001b[?25l\u001b[?25hdone\n",
            "  Created wheel for mpi4py: filename=mpi4py-3.1.2-cp37-cp37m-linux_x86_64.whl size=2183204 sha256=ddc6bf2d95afccd8fd63cb7faed7fc9aeafc2596ed34c0a542a5a4d382611153\n",
            "  Stored in directory: /root/.cache/pip/wheels/62/d6/0a/91ea5f998589bc72ca3fcf425c0e364baf8536753e1cd26ea4\n",
            "Successfully built mpi4py\n",
            "Installing collected packages: mpi4py\n",
            "Successfully installed mpi4py-3.1.2\n"
          ]
        }
      ]
    },
    {
      "cell_type": "code",
      "metadata": {
        "colab": {
          "base_uri": "https://localhost:8080/"
        },
        "id": "4qX4ZaGHPY73",
        "outputId": "fe8aa38d-9e57-4472-9b22-13c67ed40117"
      },
      "source": [
        "%%writefile bifurcation.py\n",
        "\n",
        "# Bifurcation map\n",
        "\n",
        "import matplotlib.pyplot as plt\n",
        "import numpy as np\n",
        "from random import random\n",
        "\n",
        "import numpy\n",
        "from mpi4py import MPI\n",
        "import time\n",
        "\n",
        "# Initialize bifurcation parametres\n",
        "n = 10\n",
        "m = 20\n",
        "r_beg = 0\n",
        "r_end = 4\n",
        "r_step = 30\n",
        "x = random()  \n",
        "\n",
        "# Initialize mpi4py variables\n",
        "comm = MPI.COMM_WORLD\n",
        "rank = comm.Get_rank()\n",
        "size = comm.Get_size()\n",
        "print('rank',rank,'size',size)\n",
        "\n",
        "r_values = []\n",
        "if rank == 0:\n",
        "  num_per_rank = r_end // size # the floor division // rounds the result down to the nearest whole number.\n",
        "  for i in range(size):\n",
        "    lower_bound = i * num_per_rank\n",
        "    upper_bound = (i + 1) * num_per_rank\n",
        "    rr = np.linspace(lower_bound, upper_bound, r_step//size)\n",
        "    r_values.append(rr)\n",
        "  #print(\"This is processor \", rank, \"and I am summing numbers from\", lower_bound,\" to \", upper_bound - 1, flush=True)\n",
        "  \n",
        "else:\n",
        "  data = None\n",
        "\n",
        "r_values = comm.scatter(r_values, root=0)\n",
        "print(\"This is processor \", rank, \"and I am summing for:\", r_values[0], \"to\", r_values[-1], flush=True)\n",
        "\n",
        "start_time = time.time()\n",
        "# Start computation\n",
        "res = []\n",
        "for r in r_values:\n",
        "    X = []\n",
        "    x = random()\n",
        "    for i in range(n+m):\n",
        "        x = r*x*(1-x)\n",
        "        if(i > n):\n",
        "          X.append(x) \n",
        "\n",
        "    res.append(X)\n",
        "\n",
        "print(\"This is processor \", rank, \"data\", res)\n",
        "if rank == 0:\n",
        "  gatheredData = comm.gather(res, root=0)\n",
        "  print(\"-----\", int((time.time() - start_time) * 1000), \"-----\")\n",
        "  \n",
        "  # Get the bifurcation map\n",
        "  #plt.figure(figsize=(20, 5))\n",
        "  #plt.xlabel('r')\n",
        "  #plt.ylabel('X')\n",
        "  #_ = plt.plot(r_values, gatheredData[0], 'b.', markersize = 0.1)\n",
        "\n",
        "#comm.Barrier()\n",
        "\n",
        "#stop_time = time.time()\n"
      ],
      "execution_count": null,
      "outputs": [
        {
          "output_type": "stream",
          "name": "stdout",
          "text": [
            "Overwriting bifurcation.py\n"
          ]
        }
      ]
    },
    {
      "cell_type": "code",
      "metadata": {
        "id": "CpK3GFsMxKIy",
        "colab": {
          "base_uri": "https://localhost:8080/"
        },
        "outputId": "09df6e8d-5b13-44cc-e25a-2a23be9ac0c3"
      },
      "source": [
        "! mpirun --allow-run-as-root -np 2 python bifurcation.py"
      ],
      "execution_count": 6,
      "outputs": [
        {
          "output_type": "stream",
          "name": "stdout",
          "text": [
            "rank 0 size 2\n",
            "rank 1 size 2\n",
            "This is processor  0 and I am summing for: 0.0 to 2.0\n",
            "This is processor  1 and I am summing for: 2.0 to 4.0\n",
            "This is processor  1 data [[0.5, 0.5, 0.5, 0.5, 0.5, 0.5, 0.5, 0.5, 0.5, 0.5, 0.5, 0.5, 0.5, 0.5, 0.5, 0.5, 0.5, 0.5, 0.5], [0.5333333333399479, 0.5333333333323884, 0.5333333333334683, 0.533333333333314, 0.5333333333333361, 0.533333333333333, 0.5333333333333334, 0.5333333333333333, 0.5333333333333333, 0.5333333333333333, 0.5333333333333333, 0.5333333333333333, 0.5333333333333333, 0.5333333333333333, 0.5333333333333333, 0.5333333333333333, 0.5333333333333333, 0.5333333333333333, 0.5333333333333333], [0.5625000159852048, 0.562499995432798, 0.5625000013049147, 0.5624999996271672, 0.5625000001065236, 0.5624999999695647, 0.5625000000086958, 0.5624999999975155, 0.5625000000007098, 0.5624999999997973, 0.5625000000000578, 0.5624999999999835, 0.5625000000000047, 0.5624999999999986, 0.5625000000000003, 0.5624999999999999, 0.5625, 0.5625, 0.5625], [0.5883445766286393, 0.5881884297521729, 0.5882553735119118, 0.5882266876838057, 0.5882389824094073, 0.5882337133881412, 0.5882359715670812, 0.5882350037810606, 0.5882354185474079, 0.5882352407905691, 0.5882353169721021, 0.5882352843228793, 0.5882352983154044, 0.588235292318608, 0.5882352948886638, 0.5882352937872113, 0.5882352942592624, 0.5882352940569547, 0.5882352941436579], [0.6109855160896462, 0.6111828391328097, 0.6110701104403742, 0.6111345357431051, 0.6110977241961373, 0.611118760315986, 0.6111067399864416, 0.6111136088475049, 0.6111096838171294, 0.6111119267024336, 0.6111106450572162, 0.6111113774270639, 0.6111109589303843, 0.6111111980714669, 0.6111110614194598, 0.611111139506334, 0.6111110948852673, 0.6111111203830212, 0.6111111058128765], [0.631551899022371, 0.6315982656297929, 0.6315651475973398, 0.6315888038308733, 0.6315719067744056, 0.6315839762295994, 0.6315753552560796, 0.6315815131279275, 0.6315771146651908, 0.6315802564330402, 0.6315780123176132, 0.631579615259482, 0.6315784703021667, 0.6315792881294136, 0.631578703967397, 0.6315791212261346, 0.631578823184258, 0.6315790360713528, 0.6315788840091627], [0.6515252220894951, 0.6486860202020833, 0.6511213354184734, 0.6490352628038207, 0.650824258402846, 0.649291551649233, 0.650605807446184, 0.6494796878956656, 0.6504452083046126, 0.6496178265662335, 0.6503271599245614, 0.6497192713971867, 0.6502403993494159, 0.6497937782952229, 0.6501766399544046, 0.6498485051771575, 0.6501297871319183, 0.649888705759214, 0.6500953596737936], [0.7050739511388602, 0.6238340236928892, 0.7039954037280869, 0.6251576257734445, 0.7030067061322633, 0.6263648317959867, 0.702095787855516, 0.6274718775931749, 0.7012527612686119, 0.6284919782452772, 0.7004694345798457, 0.6294360173977108, 0.6997389522006585, 0.6303130529213491, 0.699055524714953, 0.6311306942413643, 0.6984142230833336, 0.6318953882347114, 0.6978108196872443], [0.7715563060702, 0.5539511139910247, 0.776566300082972, 0.54532054235502, 0.77925900938489, 0.5406167035574483, 0.78052946208954, 0.5383815513992248, 0.7810844061811644, 0.5374020350341727, 0.781317704436665, 0.5369896688215249, 0.7814141166872037, 0.5368191554916485, 0.7814536707650571, 0.5367491838118923, 0.781469849251645, 0.5367205610242339, 0.7814764583939201], [0.6931191921958916, 0.6988877835612778, 0.6914577056645561, 0.7009872542368967, 0.6886992633698857, 0.704432789154891, 0.6841094855031561, 0.7100550055712218, 0.6764526537989859, 0.7191260860353986, 0.6636609205189375, 0.7334210530260803, 0.6424051537280718, 0.7547968229155338, 0.608115331105636, 0.78302210416259, 0.5582378909676773, 0.810284572182807, 0.5050914483003779], [0.4628758424492285, 0.8524175894610702, 0.4313206033318238, 0.8409707673370126, 0.4585334942455159, 0.8512475276589029, 0.43414345478917116, 0.842272852981351, 0.4554832940983079, 0.8503483299279848, 0.4363064493143036, 0.8432335940607381, 0.45322525682793763, 0.849641565946929, 0.43800265838461483, 0.8439645587404293, 0.4515030251331489, 0.8490790060414766, 0.4393503344266106], [0.559377805168591, 0.8802652723334315, 0.37642258091850406, 0.8383165053327012, 0.48407836506952984, 0.89195179121836, 0.34419211914542547, 0.8061568009414525, 0.5581000472760566, 0.8808013732375714, 0.3749654076442138, 0.837022681122937, 0.48719897288823977, 0.8922719060888713, 0.34329554176215615, 0.8051561170299422, 0.5602848008543151, 0.8798776528069842, 0.3774748889209157], [0.39027548115308647, 0.8838533970084496, 0.38129582996170197, 0.8762346172004986, 0.40280504761712177, 0.8934830960019344, 0.35349248316843485, 0.8488463193297237, 0.47656605467753094, 0.9265317293388874, 0.25283396864951874, 0.7016618252296823, 0.7775207449101227, 0.642505448536828, 0.8531424465100363, 0.4653643891850799, 0.9241156765786304, 0.2604676021266451, 0.7154614270850088], [0.15636593548211397, 0.5088174288541096, 0.9639858328009818, 0.13390899541706316, 0.4473413088304736, 0.9535900972280622, 0.1707018056870287, 0.5460275541428354, 0.9561142192871378, 0.16184501600432696, 0.5232260833671322, 0.9622049749126316, 0.14027102164033822, 0.46515238249492535, 0.9596017679948486, 0.14952682873032166, 0.4905072882778167, 0.9639381410646151, 0.13407969059553598], [0.9333680646435496, 0.24876848218841685, 0.7475308978323527, 0.7549138184732375, 0.7400757806055733, 0.7694544782664985, 0.7095771365685164, 0.8243096953109658, 0.5792928861092342, 0.974850552849872, 0.09806780983268372, 0.3538020580292172, 0.9145046470540306, 0.3127435902824542, 0.8597401480787784, 0.48234810344103435, 0.9987536421914862, 0.004979217602907776, 0.019817699979882676]]\n",
            "This is processor  0 data [[0.0, 0.0, 0.0, 0.0, 0.0, 0.0, 0.0, 0.0, 0.0, 0.0, 0.0, 0.0, 0.0, 0.0, 0.0, 0.0, 0.0, 0.0, 0.0], [1.6387851706114434e-11, 2.3411216722636956e-12, 3.344459531797449e-13, 4.777799331137615e-14, 6.825427615910552e-15, 9.750610879872152e-16, 1.3929444114103058e-16, 1.989920587729008e-17, 2.8427436967557255e-18, 4.0610624239367506e-19, 5.801517748481072e-20, 8.287882497830103e-21, 1.1839832139757288e-21, 1.6914045913938983e-22, 2.4162922734198545e-23, 3.451846104885506e-24, 4.931208721265008e-25, 7.04458388752144e-26, 1.006369126788777e-26], [6.447797046362597e-08, 1.8422276087490655e-08, 5.263507356602971e-09, 1.5038592368281318e-09, 4.296740670190112e-10, 1.2276401909554042e-10, 3.507543402299126e-11, 1.0021552577645994e-11, 2.863300736441589e-12, 8.180859246952544e-13, 2.337388356270243e-13, 6.678252446484846e-14, 1.9080721275669714e-14, 5.4516346501912425e-15, 1.557609900054632e-15, 4.450314000156084e-16, 1.2715182857588807e-16, 3.632909387882515e-17, 1.0379741108235756e-17], [7.483944300998586e-06, 3.2073806963898366e-06, 1.374587318185245e-06, 5.891080408692641e-07, 2.524747259232772e-07, 1.0820342664848143e-07, 4.637289211735709e-08, 1.987409570010513e-08, 8.517469416482337e-09, 3.6503440045435936e-09, 1.5644331390936781e-09, 6.704713442769544e-10, 2.873448616403239e-10, 1.2314779781046722e-10, 5.277762762655793e-11, 2.261898326733105e-11, 9.693849971494041e-12, 4.1545071306000295e-12, 1.7805030559640442e-12], [0.00020811937148819645, 0.00011890060446594731, 6.793512406411711e-05, 3.881743364744886e-05, 2.2180529631025077e-05, 1.2674307231503065e-05, 7.242369481965294e-06, 4.138466874314046e-06, 2.3648284270891296e-06, 1.3513273341003655e-06, 7.721860045798865e-07, 4.412488047478062e-07, 2.5214206288417057e-07, 1.4408114246202896e-07, 8.233206954437334e-08, 4.704689300903066e-08, 2.688393759749744e-08, 1.5362249642715047e-08, 8.778428232409332e-09], [0.0013761817695430222, 0.0009816342094858567, 0.0007004790026890169, 0.0004999916656112919, 0.00035695833853257935, 0.0002548792280550938, 0.00018201018902442843, 0.00012998361522537124, 9.283337106081726e-05, 6.630339501859623e-05, 4.735642777028945e-05, 3.382441795645591e-05, 2.4159481332289866e-05, 1.725635546553687e-05, 1.2325755488380652e-05, 8.80400254580878e-06, 6.288517882391394e-06, 4.491770240667312e-06, 3.2083929033338685e-06], [0.006636942315969158, 0.005651051410854562, 0.004816386024691235, 0.0041084472431591945, 0.0035070582037794616, 0.002995507497029798, 0.002559886655884317, 0.0021885716881657217, 0.0018718130075412694, 0.0016014079916623447, 0.0013704372720913583, 0.0011730507203782466, 0.0010042925763305713, 0.0008599576909300272, 0.0007364727117427178, 0.0006307974168750652, 0.0005403424384233676, 0.0004629004015479482, 0.00039658810694245274], [0.039455031046845696, 0.037898331571938136, 0.036462048036001574, 0.035132567089021884, 0.03389826981875726, 0.03274917712205199, 0.031676668519880456, 0.03067325719136207, 0.029732408484634626, 0.028848392370337452, 0.02801616262798451, 0.027231257259586833, 0.02648971588764903, 0.025788010839840666, 0.025122989336764927, 0.024491824743549724, 0.02389197526428097, 0.023321148782251958, 0.022777272801728025], [0.13739323872347184, 0.13544724191605362, 0.13383004179815733, 0.13247949909766946, 0.13134706447600006, 0.13039430071947147, 0.12959043092497316, 0.12891057272874618, 0.12833444224856322, 0.1278453864929296, 0.12742964988046063, 0.12707581052777583, 0.12677434160741102, 0.1265172661913354, 0.12629788291063562, 0.12611054592334514, 0.12595048700601255, 0.12581367066166949, 0.1256966753557788], [0.209194035823569, 0.21269814582782098, 0.21530268590043597, 0.21721813630006392, 0.21861567972307383, 0.21962939696009, 0.22036156065133355, 0.22088872702111134, 0.2212674393807055, 0.2215390624079288, 0.2217336508740145, 0.22187293578526515, 0.2219725750516621, 0.22204382268419526, 0.22209475306112345, 0.22213115193065402, 0.22215716135050464, 0.22217574472867346, 0.22218902123519926], [0.30001298777389956, 0.30000742134411074, 0.30000424068938275, 0.3000024232253852, 0.30000138469183146, 0.300000791249736, 0.30000045214181187, 0.30000025836645755, 0.3000001476378803, 0.30000008436447184, 0.30000004820825943, 0.30000002754757343, 0.30000001574146945, 0.30000000899512497, 0.30000000514007125, 0.3000000029371835, 0.3000000016783905, 0.30000000095908025, 0.3000000005480459], [0.36363739029602427, 0.3636368036317047, 0.3636365522054913, 0.36363644445164817, 0.3636363982714753, 0.36363637847998104, 0.3636363699979136, 0.3636363663627421, 0.36363636480481154, 0.363636364137127, 0.36363636385097653, 0.36363636372834063, 0.36363636367578234, 0.36363636365325736, 0.3636363636436038, 0.3636363636394666, 0.36363636363769347, 0.3636363636369336, 0.3636363636366079], [0.4166085841971575, 0.4166500658921099, 0.41666192311578915, 0.41666531132784235, 0.41666627942385354, 0.41666655602560576, 0.41666663505491397, 0.4166666576347356, 0.41666666408611486, 0.41666666592936613, 0.41666666645600936, 0.41666666660647883, 0.41666666664947005, 0.41666666666175334, 0.4166666666652628, 0.4166666666662656, 0.41666666666655205, 0.41666666666663393, 0.4166666666666573], [0.46153846113112584, 0.46153846148027067, 0.46153846153014855, 0.46153846153727396, 0.4615384615382918, 0.46153846153843725, 0.461538461538458, 0.461538461538461, 0.46153846153846145, 0.46153846153846145, 0.46153846153846145, 0.46153846153846145, 0.46153846153846145, 0.46153846153846145, 0.46153846153846145, 0.46153846153846145, 0.46153846153846145, 0.46153846153846145, 0.46153846153846145], [0.5, 0.5, 0.5, 0.5, 0.5, 0.5, 0.5, 0.5, 0.5, 0.5, 0.5, 0.5, 0.5, 0.5, 0.5, 0.5, 0.5, 0.5, 0.5]]\n"
          ]
        }
      ]
    },
    {
      "cell_type": "code",
      "metadata": {
        "colab": {
          "base_uri": "https://localhost:8080/"
        },
        "id": "z7mRSfjVncKx",
        "outputId": "4f716a46-eb6b-40d2-9e85-b1760c6873ef"
      },
      "source": [
        "%%writefile test.py\n",
        "#try to parralell\n",
        "from mpi4py import MPI\n",
        "import matplotlib\n",
        "import matplotlib.pyplot as plt\n",
        "import numpy as np\n",
        "from random import random\n",
        "#import os \n",
        "#os.environ[\"OMP_NUM_THREADS\"] = \"1\"\n",
        "\n",
        "def map_fun(r, x):\n",
        "    return r*x*(1-x)\n",
        "\n",
        "x_i = random()  #initial value of x\n",
        "n = 200  #number of iterations\n",
        "last = 200  #number of last values that we take into account\n",
        "number_r = 100\n",
        "\n",
        "comm = MPI.COMM_WORLD #create a communicator\n",
        "rank = comm.Get_rank() #rank of executing process\n",
        "size = comm.Get_size() #gives number of ranks in comm\n",
        "print(\"my rank is \", rank)\n",
        "\n",
        "t1 = MPI.Wtime()\n",
        "r_values = np.linspace(0, 4, number_r)\n",
        "r_list = np.array_split(r_values,size)[rank]\n",
        "numDataPerRank = int((r_values.size)/size)\n",
        "\n",
        "\n",
        "#sendbuf = np.array([])\n",
        "sendbuf = []\n",
        "R = []\n",
        "x_n = []\n",
        "#for r in r_values[rank*numDataPerRank: (rank+1)*numDataPerRank]:\n",
        "for r in r_list:\n",
        "    x_i = random()\n",
        "    for i in range(n+last):\n",
        "        x_i = map_fun(r, x_i)\n",
        "        if i >= n:\n",
        "            x_n.append(x_i)\n",
        "            R.append(r)\n",
        "\n",
        "\n",
        "sendbuf = x_n\n",
        "  \n",
        "t2 = MPI.Wtime()        \n",
        "#comm.Gather(sendbuf, recvbuf, root=0)\n",
        "recieved_x = comm.gather(sendbuf,root=0) \n",
        "recieved_r = comm.gather(R,root=0) \n",
        "\n",
        "if rank == 0:\n",
        "    recv_x = np.hstack(recieved_x) \n",
        "    recv_r = np.hstack(recieved_r)\n",
        "    #print('Rank: ',rank, ', recvbuf received: ',recvbuf, ', size', len(recvbuf))\n",
        "    #fig = plt.figure()\n",
        "    #plt.plot(recv_r, recv_x, ls='',marker=',')\n",
        "    #plt.show()\n",
        "    #fig.savefig('Bifurcation map with n = {} processes'.format(size))"
      ],
      "execution_count": 1,
      "outputs": [
        {
          "output_type": "stream",
          "name": "stdout",
          "text": [
            "Writing test.py\n"
          ]
        }
      ]
    },
    {
      "cell_type": "code",
      "metadata": {
        "id": "Qf_AiPkZXW1_",
        "colab": {
          "base_uri": "https://localhost:8080/"
        },
        "outputId": "e78fc3c1-896b-48e3-d310-b11ed7632083"
      },
      "source": [
        "! mpirun --allow-run-as-root -n 1 python test.py"
      ],
      "execution_count": 4,
      "outputs": [
        {
          "output_type": "stream",
          "name": "stdout",
          "text": [
            "my rank is  0\n"
          ]
        }
      ]
    },
    {
      "cell_type": "code",
      "metadata": {
        "id": "H-p1FwiKo2kH",
        "colab": {
          "base_uri": "https://localhost:8080/"
        },
        "outputId": "0a45f41e-e13e-4d9f-a7b3-c27407ceec07"
      },
      "source": [
        " %timeit -o -n 1 ! mpirun --allow-run-as-root -n 1 python test.py"
      ],
      "execution_count": 5,
      "outputs": [
        {
          "output_type": "stream",
          "name": "stdout",
          "text": [
            "my rank is  0\n",
            "my rank is  0\n",
            "my rank is  0\n",
            "my rank is  0\n",
            "The slowest run took 5.47 times longer than the fastest. This could mean that an intermediate result is being cached.\n",
            "1 loop, best of 5: 10.5 s per loop\n"
          ]
        },
        {
          "output_type": "execute_result",
          "data": {
            "text/plain": [
              "<TimeitResult : 1 loop, best of 5: 10.5 s per loop>"
            ]
          },
          "metadata": {},
          "execution_count": 5
        }
      ]
    },
    {
      "cell_type": "code",
      "metadata": {
        "colab": {
          "base_uri": "https://localhost:8080/"
        },
        "id": "pd2bA0b1sOEu",
        "outputId": "96825234-1d08-474e-8ca3-43120a90bc53"
      },
      "source": [
        "! mpirun --allow-run-as-root -n 2 python test.py"
      ],
      "execution_count": 2,
      "outputs": [
        {
          "output_type": "stream",
          "name": "stdout",
          "text": [
            "Traceback (most recent call last):\n",
            "  File \"test.py\", line 2, in <module>\n",
            "    from mpi4py import MPI\n",
            "ModuleNotFoundError: No module named 'mpi4py'\n",
            "Traceback (most recent call last):\n",
            "  File \"test.py\", line 2, in <module>\n",
            "    from mpi4py import MPI\n",
            "ModuleNotFoundError: No module named 'mpi4py'\n",
            "-------------------------------------------------------\n",
            "Primary job  terminated normally, but 1 process returned\n",
            "a non-zero exit code.. Per user-direction, the job has been aborted.\n",
            "-------------------------------------------------------\n",
            "--------------------------------------------------------------------------\n",
            "mpirun detected that one or more processes exited with non-zero status, thus causing\n",
            "the job to be terminated. The first process to do so was:\n",
            "\n",
            "  Process name: [[41924,1],0]\n",
            "  Exit code:    1\n",
            "--------------------------------------------------------------------------\n"
          ]
        }
      ]
    },
    {
      "cell_type": "code",
      "metadata": {
        "colab": {
          "base_uri": "https://localhost:8080/"
        },
        "id": "cRzK_NkZPcHH",
        "outputId": "c39556f4-823d-4b1b-e8e9-dc08a5acab01"
      },
      "source": [
        "timeit_arr = []\n",
        "for i in range(1, 8):\n",
        "#     timeit_value = %timeit -o -n 10 ! mpiexec mpirun -n {i} python bifurcation_v2.py\n",
        "    timeit_value = %timeit -o -n 1 ! mpirun --allow-run-as-root -n {i} python test.py\n",
        "#    timeit_arr.append(sum(timeit_value.all_runs)/len(timeit_value.all_runs))\n",
        "    timeit_arr.append(sum(timeit_value.all_runs)/len(timeit_value.all_runs))\n",
        "    print(i)"
      ],
      "execution_count": 5,
      "outputs": [
        {
          "output_type": "stream",
          "name": "stdout",
          "text": [
            "my rank is  0\n",
            "my rank is  0\n",
            "my rank is  0\n",
            "my rank is  0\n",
            "my rank is  0\n",
            "1 loop, best of 5: 1.22 s per loop\n",
            "1\n",
            "my rank is  1\n",
            "my rank is  0\n",
            "my rank is  1\n",
            "my rank is  0\n",
            "my rank is  0\n",
            "my rank is  1\n",
            "my rank is  1\n",
            "my rank is  0\n",
            "my rank is  0\n",
            "my rank is  1\n",
            "1 loop, best of 5: 1.92 s per loop\n",
            "2\n",
            "my rank is  2\n",
            "my rank is  0\n",
            "my rank is  1\n",
            "my rank is  1\n",
            "my rank is  2\n",
            "my rank is  0\n",
            "my rank is  2\n",
            "my rank is  0\n",
            "my rank is  1\n",
            "my rank is  0\n",
            "my rank is  2\n",
            "my rank is  1\n",
            "my rank is  2\n",
            "my rank is  0\n",
            "my rank is  1\n",
            "1 loop, best of 5: 2.82 s per loop\n",
            "3\n",
            "my rank is  0\n",
            "my rank is  3\n",
            "my rank is  2\n",
            "my rank is  1\n",
            "my rank is  2\n",
            "my rank is  0\n",
            "my rank is  1\n",
            "my rank is  3\n",
            "my rank is  2\n",
            "my rank is  1\n",
            "my rank is  0\n",
            "my rank is  3\n",
            "my rank is  0\n",
            "my rank is  2\n",
            "my rank is  3\n",
            "my rank is  1\n",
            "my rank is  2\n",
            "my rank is  3\n",
            "my rank is  1\n",
            "my rank is  0\n",
            "1 loop, best of 5: 3.63 s per loop\n",
            "4\n",
            "my rank is  1\n",
            "my rank is  3\n",
            "my rank is  4\n",
            "my rank is  2\n",
            "my rank is  0\n",
            "my rank is  1\n",
            "my rank is  0\n",
            "my rank is  2\n",
            "my rank is  4\n",
            "my rank is  3\n",
            "my rank is  4\n",
            "my rank is  0\n",
            "my rank is  2\n",
            "my rank is  3\n",
            "my rank is  1\n",
            "my rank is  1\n",
            "my rank is  0\n",
            "my rank is  4\n",
            "my rank is  2\n",
            "my rank is  3\n",
            "my rank is  1\n",
            "my rank is  0\n",
            "my rank is  3\n",
            "my rank is  4\n",
            "my rank is  2\n",
            "1 loop, best of 5: 4.53 s per loop\n",
            "5\n",
            "my rank is  0\n",
            "my rank is  3\n",
            "my rank is  4\n",
            "my rank is  5\n",
            "my rank is  1\n",
            "my rank is  2\n",
            "my rank is  5\n",
            "my rank is  0\n",
            "my rank is  1\n",
            "my rank is  3\n",
            "my rank is  4\n",
            "my rank is  2\n",
            "my rank is  2\n",
            "my rank is  3\n",
            "my rank is  5\n",
            "my rank is  1\n",
            "my rank is  4\n",
            "my rank is  0\n",
            "my rank is  5\n",
            "my rank is  0\n",
            "my rank is  2\n",
            "my rank is  3\n",
            "my rank is  1\n",
            "my rank is  4\n",
            "my rank is  0\n",
            "my rank is  2\n",
            "my rank is  5\n",
            "my rank is  4\n",
            "my rank is  1\n",
            "my rank is  3\n",
            "1 loop, best of 5: 5.33 s per loop\n",
            "6\n",
            "my rank is  5\n",
            "my rank is  0\n",
            "my rank is  6\n",
            "my rank is  3\n",
            "my rank is  2\n",
            "my rank is  4\n",
            "my rank is  1\n",
            "my rank is  6\n",
            "my rank is  1\n",
            "my rank is  2\n",
            "my rank is  5\n",
            "my rank is  3\n",
            "my rank is  0\n",
            "my rank is  4\n",
            "my rank is  2\n",
            "my rank is  1\n",
            "my rank is  5\n",
            "my rank is  3\n",
            "my rank is  0\n",
            "my rank is  4\n",
            "my rank is  6\n",
            "my rank is  5\n",
            "my rank is  1\n",
            "my rank is  4\n",
            "my rank is  3\n",
            "my rank is  2\n",
            "my rank is  0\n",
            "my rank is  6\n",
            "my rank is  5\n",
            "my rank is  3\n",
            "my rank is  6\n",
            "my rank is  0\n",
            "my rank is  2\n",
            "my rank is  1\n",
            "my rank is  4\n",
            "1 loop, best of 5: 6.14 s per loop\n",
            "7\n"
          ]
        }
      ]
    },
    {
      "cell_type": "code",
      "metadata": {
        "id": "lVCtta3Vvkd6"
      },
      "source": [
        "timeit_value = %timeit -o -n 1 ! mpirun --allow-run-as-root -n 1 python test.py"
      ],
      "execution_count": null,
      "outputs": []
    },
    {
      "cell_type": "code",
      "metadata": {
        "colab": {
          "base_uri": "https://localhost:8080/"
        },
        "id": "sZsGadr1vkXK",
        "outputId": "60acedc1-c66b-47a8-b00e-f40621781e0a"
      },
      "source": [
        "timeit_value"
      ],
      "execution_count": 6,
      "outputs": [
        {
          "output_type": "execute_result",
          "data": {
            "text/plain": [
              "<TimeitResult : 1 loop, best of 5: 6.14 s per loop>"
            ]
          },
          "metadata": {},
          "execution_count": 6
        }
      ]
    },
    {
      "cell_type": "code",
      "metadata": {
        "colab": {
          "base_uri": "https://localhost:8080/",
          "height": 162
        },
        "id": "zC3Sk4Tqwu6L",
        "outputId": "256c2fca-be73-44c1-f6ba-fb9f052c0bd1"
      },
      "source": [
        "i"
      ],
      "execution_count": null,
      "outputs": [
        {
          "output_type": "error",
          "ename": "NameError",
          "evalue": "ignored",
          "traceback": [
            "\u001b[0;31m---------------------------------------------------------------------------\u001b[0m",
            "\u001b[0;31mNameError\u001b[0m                                 Traceback (most recent call last)",
            "\u001b[0;32m<ipython-input-3-397d543883c5>\u001b[0m in \u001b[0;36m<module>\u001b[0;34m()\u001b[0m\n\u001b[0;32m----> 1\u001b[0;31m \u001b[0mi\u001b[0m\u001b[0;34m\u001b[0m\u001b[0;34m\u001b[0m\u001b[0m\n\u001b[0m",
            "\u001b[0;31mNameError\u001b[0m: name 'i' is not defined"
          ]
        }
      ]
    },
    {
      "cell_type": "code",
      "metadata": {
        "colab": {
          "base_uri": "https://localhost:8080/",
          "height": 580
        },
        "id": "coxC7gMuQL8J",
        "outputId": "b2c05ad7-0e78-4488-b525-724834b0d5e6"
      },
      "source": [
        "import matplotlib\n",
        "import matplotlib.pyplot as plt\n",
        "import numpy as np\n",
        "\n",
        "t1 = timeit_arr[0]\n",
        "def SpeedUp(tn):\n",
        "    return t1/tn\n",
        "Speedup = list(map(SpeedUp, timeit_arr))\n",
        "plt.figure(figsize=(10, 8))\n",
        "num_of_processes = np.linspace(1, len(timeit_arr), len(timeit_arr))\n",
        "plt.plot(num_of_processes, Speedup)\n",
        "plt.xlabel('Np', fontsize = 20)\n",
        "plt.ylabel('Speedup = t1/tn', fontsize = 20)\n",
        "plt.suptitle('Speedup vs Np', fontsize = 20)\n"
      ],
      "execution_count": 7,
      "outputs": [
        {
          "output_type": "execute_result",
          "data": {
            "text/plain": [
              "Text(0.5, 0.98, 'Speedup vs Np')"
            ]
          },
          "metadata": {},
          "execution_count": 7
        },
        {
          "output_type": "display_data",
          "data": {
            "image/png": "[encoded data removed]",
            "text/plain": [
              "<Figure size 720x576 with 1 Axes>"
            ]
          },
          "metadata": {
            "needs_background": "light"
          }
        }
      ]
    },
    {
      "cell_type": "code",
      "metadata": {
        "colab": {
          "base_uri": "https://localhost:8080/"
        },
        "id": "LMWWpDcicru-",
        "outputId": "0e839239-2e24-4457-8459-9a14710357a6"
      },
      "source": [
        "from mpi4py import MPI\n",
        "\n",
        "comm = MPI.COMM_WORLD\n",
        "size = comm.Get_size()\n",
        "rank = comm.Get_rank()\n",
        "\n",
        "if rank == 0:\n",
        "   data = [(x+1)**x for x in range(size)]\n",
        "   print('we will be scattering:',data)\n",
        "else:\n",
        "   data = None\n",
        "   \n",
        "data = comm.scatter(data, root=0)\n",
        "data += 1\n",
        "print('rank',rank,'has data:',data)\n",
        "\n",
        "newData = comm.gather(data,root=0)\n",
        "\n",
        "if rank == 0:\n",
        "   print('master:',newData)"
      ],
      "execution_count": null,
      "outputs": [
        {
          "output_type": "stream",
          "name": "stdout",
          "text": [
            "we will be scattering: [1]\n",
            "rank 0 has data: 2\n",
            "master: [2]\n"
          ]
        }
      ]
    }
  ]
}