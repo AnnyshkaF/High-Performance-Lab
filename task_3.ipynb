{
  "nbformat": 4,
  "nbformat_minor": 0,
  "metadata": {
    "colab": {
      "name": "task_3.ipynb",
      "provenance": [],
      "collapsed_sections": [],
      "authorship_tag": "ABX9TyMHe+WpeerCX/xD57FAv7KP",
      "include_colab_link": true
    },
    "kernelspec": {
      "name": "python3",
      "display_name": "Python 3"
    },
    "language_info": {
      "name": "python"
    }
  },
  "cells": [
    {
      "cell_type": "markdown",
      "metadata": {
        "id": "view-in-github",
        "colab_type": "text"
      },
      "source": [
        "<a href=\"https://colab.research.google.com/github/AnnyshkaF/High-Performance-Lab/blob/main/task_3.ipynb\" target=\"_parent\"><img src=\"https://colab.research.google.com/assets/colab-badge.svg\" alt=\"Open In Colab\"/></a>"
      ]
    },
    {
      "cell_type": "code",
      "metadata": {
        "id": "2A-7O7JVol4y"
      },
      "source": [
        "import numpy as np\n",
        "import random\n",
        "import matplotlib.cm as cm\n",
        "import matplotlib.pyplot as plt"
      ],
      "execution_count": 80,
      "outputs": []
    },
    {
      "cell_type": "code",
      "metadata": {
        "id": "0tY6uxWLop9O"
      },
      "source": [
        "class City(object):\n",
        "    \"\"\"docstring\"\"\"\n",
        "    AGENT1_cell = 0\n",
        "    AGENT2_cell = 1\n",
        "    FREE_cell = 2\n",
        "    BORDER_cell = -1\n",
        "    def __init__(self, N, r, num_agents=2):\n",
        "        \"\"\"Constructor\"\"\"\n",
        "        self.r = r\n",
        "        self.N = N\n",
        "\n",
        "        # Initialize map for 2 agents\n",
        "        self.map = np.ones((self.N+2, self.N+2)) #to get borders\n",
        "        self.map = self.map*self.BORDER_cell # make all cells free at the beggining\n",
        "        for i in range(1,self.N+1):\n",
        "          for j in range(1,self.N+1):\n",
        "            if(np.random.rand() < 0.66):\n",
        "              if(np.random.rand() < 0.5):\n",
        "                self.map[i][j] = self.AGENT1_cell\n",
        "              else:\n",
        "                self.map[i][j] = self.AGENT2_cell\n",
        "            else:\n",
        "              self.map[i][j] = self.FREE_cell\n",
        "    \n",
        "\n",
        "    def plotCity(self):\n",
        "      plt.figure(figsize=(5, 5))\n",
        "      plt.title(\"White are free, black and purple are agents\")\n",
        "      plt.imshow(self.map, cmap=cm.gnuplot2, extent=(-2, 2, -2, 2))\n",
        "\n",
        "    def calculateAndMove(self):\n",
        "      toMove = []\n",
        "      for i in range(1, self.N+1):\n",
        "        for j in range(1, self.N+1):\n",
        "          if(self.map[i][j] == self.AGENT1_cell or self.map[i][j] == self.AGENT2_cell):\n",
        "            n1 = self.calculateNeighbours(i, j)\n",
        "            if(n1 < self.r):\n",
        "              toMove.append([i,j])\n",
        "      self.moveAgents(toMove)\n",
        "    \n",
        "    def moveAgents(self, toMove):\n",
        "      for idx in toMove:\n",
        "        freePlaces = np.where(self.map == self.FREE_cell)\n",
        "        whereToMove = random.randint(0, len(freePlaces[0])-1)\n",
        "        self.map[freePlaces[0][whereToMove]][freePlaces[1][whereToMove]] = self.map[idx[0]][idx[1]]\n",
        "        self.map[idx[0]][idx[1]] = self.FREE_cell\n",
        "        \n",
        "    def calculateNeighbours(self, cur_i, cur_j):\n",
        "      neighbours = []\n",
        "      agentNum = self.map[cur_i][cur_j]\n",
        "      start_i = cur_i - 1\n",
        "      start_j = cur_j - 1\n",
        "      for i in range(start_i, start_i + 3, 1):\n",
        "        for j in range(start_j, start_j + 3, 1):\n",
        "          if(i != cur_i and j != cur_j):\n",
        "            neighbours.append(self.map[i][j])\n",
        "      numOfNeighbouringAgents = neighbours.count(agentNum)\n",
        "      numOfNeighboursAround = neighbours.count(self.AGENT1_cell) + neighbours.count(self.AGENT2_cell) + neighbours.count(self.FREE_cell)\n",
        "      return 1.0*numOfNeighbouringAgents/numOfNeighboursAround"
      ],
      "execution_count": 235,
      "outputs": []
    },
    {
      "cell_type": "code",
      "metadata": {
        "colab": {
          "base_uri": "https://localhost:8080/",
          "height": 336
        },
        "id": "ItxavQs1rN-x",
        "outputId": "356fa23c-3c2c-4279-f25d-11d6a5e83fdd"
      },
      "source": [
        "city = City(10,0.4)\n",
        "city.plotCity()"
      ],
      "execution_count": 261,
      "outputs": [
        {
          "output_type": "display_data",
          "data": {
            "image/png": "[encoded data removed]",
            "text/plain": [
              "<Figure size 360x360 with 1 Axes>"
            ]
          },
          "metadata": {
            "needs_background": "light"
          }
        }
      ]
    },
    {
      "cell_type": "code",
      "metadata": {
        "colab": {
          "base_uri": "https://localhost:8080/",
          "height": 336
        },
        "id": "Zc07zZ146T6F",
        "outputId": "433506aa-94b4-4eff-99b6-3fc4149db7f8"
      },
      "source": [
        "city.calculateAndMove()\n",
        "city.plotCity()"
      ],
      "execution_count": 258,
      "outputs": [
        {
          "output_type": "display_data",
          "data": {
            "image/png": "[encoded data removed]",
            "text/plain": [
              "<Figure size 360x360 with 1 Axes>"
            ]
          },
          "metadata": {
            "needs_background": "light"
          }
        }
      ]
    },
    {
      "cell_type": "code",
      "metadata": {
        "id": "lzq1lFd9_ZIA"
      },
      "source": [
        "import os\n",
        "from tqdm import tqdm\n",
        "import imageio\n",
        "\n",
        "def save_img(fname):\n",
        "  plt.savefig(fname)\n",
        "  plt.close()\n",
        "\n",
        "def createGIF(c_density, duration=15):\n",
        "  images = []\n",
        "  name=\"city_2\"\n",
        "\n",
        "  for i in range(c_density):\n",
        "    city.calculateAndMove()\n",
        "    plt.figure(figsize=(5, 5))\n",
        "    #plt.title(\"White are free, black and purple are agents\")\n",
        "    plt.imshow(city.map, cmap=cm.gnuplot2, extent=(-2, 2, -2, 2))\n",
        "\n",
        "    fname = f'{name}_{i}.png'\n",
        "    save_img(fname)\n",
        "    images.append(imageio.imread(fname))\n",
        "    os.remove(fname)\n",
        "\n",
        "  fname = f'{name}.gif'\n",
        "  imageio.mimsave(fname, images, fps = c_density / duration)\n",
        "\n",
        "createGIF(50,10)"
      ],
      "execution_count": 262,
      "outputs": []
    }
  ]
}