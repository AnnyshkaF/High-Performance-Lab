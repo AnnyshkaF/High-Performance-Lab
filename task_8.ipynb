{
  "nbformat": 4,
  "nbformat_minor": 0,
  "metadata": {
    "colab": {
      "name": "task_8.ipynb",
      "provenance": [],
      "collapsed_sections": [],
      "authorship_tag": "ABX9TyMJkHYjM1sZYqmGEvrxbTJw",
      "include_colab_link": true
    },
    "kernelspec": {
      "name": "python3",
      "display_name": "Python 3"
    },
    "language_info": {
      "name": "python"
    }
  },
  "cells": [
    {
      "cell_type": "markdown",
      "metadata": {
        "id": "view-in-github",
        "colab_type": "text"
      },
      "source": [
        "<a href=\"https://colab.research.google.com/github/AnnyshkaF/High-Performance-Lab/blob/main/task_8.ipynb\" target=\"_parent\"><img src=\"https://colab.research.google.com/assets/colab-badge.svg\" alt=\"Open In Colab\"/></a>"
      ]
    },
    {
      "cell_type": "code",
      "metadata": {
        "id": "Peo9n1gf2QpY"
      },
      "source": [
        "!pip install mpi4py"
      ],
      "execution_count": null,
      "outputs": []
    },
    {
      "cell_type": "markdown",
      "metadata": {
        "id": "-LlXbwI34z0c"
      },
      "source": [
        "**(1) The number of MPI processors can be chosen arbitrarily, not depending on the picture width**"
      ]
    },
    {
      "cell_type": "code",
      "metadata": {
        "colab": {
          "base_uri": "https://localhost:8080/"
        },
        "id": "Hjh3LkQc2Ixt",
        "outputId": "ec0a5f38-9666-44de-d00a-2a6ba344c840"
      },
      "source": [
        "%%writefile shiftedimage.py\n",
        "from PIL import Image # for image loading\n",
        "from mpi4py import MPI\n",
        "import numpy as np\n",
        "import matplotlib.pyplot as plt\n",
        "import tracemalloc # for memory tracing\n",
        "import os\n",
        "from tqdm import tqdm\n",
        "import imageio\n",
        "\n",
        "shift_step = 40 # step to calculate pictures\n",
        "duration = 5 #GIF duration\n",
        "create_GIF = 0\n",
        "\n",
        "# shift\n",
        "def roll(array, shift = 0):\n",
        "    return np.roll(array, shift = shift, axis=0)\n",
        "\n",
        "tracemalloc.start() # start memory tracing\n",
        "\n",
        "comm = MPI.COMM_WORLD\n",
        "n_proc = comm.Get_size()\n",
        "rank = comm.Get_rank()\n",
        "\n",
        "data = np.array(Image.open('lion.png')).mean(axis=2) # data as loaded image\n",
        "#data = np.eye(2**5, dtype=int) # data as eye matrix\n",
        "\n",
        "if rank == 0:\n",
        "    out = [] # output list of images\n",
        "senddata = np.empty_like(data)\n",
        "\n",
        "w = data.shape[1] # horizontal shape\n",
        "blocks_X = w // n_proc # horizontal pointrs per process\n",
        "\n",
        "times = [] # array for each image time\n",
        "for i in range(1, data.shape[0], shift_step):\n",
        "    \n",
        "    start = MPI.Wtime() # start time\n",
        "\n",
        "    add = 0\n",
        "    # if last process\n",
        "    if rank == n_proc-1:\n",
        "        # add remainder of division\n",
        "        add = w % n_proc\n",
        "    \n",
        "    senddata = roll(data[:, blocks_X*rank : blocks_X*(rank+1) + add], shift = i)\n",
        "    senddata = comm.gather(senddata, root=0) \n",
        "    \n",
        "    end = MPI.Wtime() # end time\n",
        "    times.append(end-start)\n",
        "    \n",
        "    if rank == 0:\n",
        "        # add each image into out array\n",
        "        out.append(np.concatenate((senddata), axis=1))\n",
        "        \n",
        "if rank == 0:\n",
        "    print('mean_time = ', np.mean(times)*1000,'')\n",
        "    \n",
        "    # memory consumption\n",
        "    current, peak =  tracemalloc.get_traced_memory()\n",
        "    print('current_consumption=',current,'')\n",
        "    print('peak_consumption=',peak,'')\n",
        "    tracemalloc.stop() # stop memory tracing\n",
        "    \n",
        "    # save each image\n",
        "    images = []\n",
        "    for i in range(len(out)):\n",
        "        fname = 'res/AAA'+str(i * int(data.shape[0]/(2*shift_step)))+'.png'\n",
        "        plt.imsave(fname, out[i], cmap='gray')\n",
        "        plt.close()\n",
        "        if(create_GIF == 1):\n",
        "          images.append(imageio.imread(fname))\n",
        "          os.remove(fname)\n",
        "    if(create_GIF == 1):\n",
        "      fname = 'lion_move.gif'\n",
        "      imageio.mimsave(fname, images, fps = shift_step / duration)"
      ],
      "execution_count": 35,
      "outputs": [
        {
          "output_type": "stream",
          "name": "stdout",
          "text": [
            "Overwriting shiftedimage.py\n"
          ]
        }
      ]
    },
    {
      "cell_type": "code",
      "metadata": {
        "colab": {
          "base_uri": "https://localhost:8080/"
        },
        "id": "UjuagmaF3NTJ",
        "outputId": "7427b0e3-c861-46df-d61a-8771c2cf8e53"
      },
      "source": [
        "!mpiexec --allow-run-as-root -n 1 python shiftedimage.py"
      ],
      "execution_count": 34,
      "outputs": [
        {
          "output_type": "stream",
          "name": "stdout",
          "text": [
            "mean_time =  9.489870705906737 \n",
            "current_consumption= 100042586 \n",
            "peak_consumption= 110507131 \n"
          ]
        }
      ]
    },
    {
      "cell_type": "code",
      "metadata": {
        "id": "ri-laeNf2LT_"
      },
      "source": [
        "import subprocess\n",
        "times = [] # time array\n",
        "memory = [] # end memory\n",
        "memoryPeak = [] # peak memory\n",
        "for i in range(1,10,1):\n",
        "    a = subprocess.run([\"mpiexec\",\"--allow-run-as-root\",\"-n\", str(i), \"python\", \"shiftedimage.py\"],         \n",
        "        universal_newlines=True,\n",
        "        stdout=subprocess.PIPE,\n",
        "        stderr=subprocess.PIPE)\n",
        "    res = list(a.stdout.strip().split(' '))\n",
        "    times.append(res[3])\n",
        "    memory.append(res[5])\n",
        "    memoryPeak.append(res[7])\n",
        "\n",
        "times = list(map(float, times))\n",
        "memory = list(map(float, memory))\n",
        "memoryPeak = list(map(float, memoryPeak))"
      ],
      "execution_count": 37,
      "outputs": []
    },
    {
      "cell_type": "markdown",
      "metadata": {
        "id": "BkwxHqNf45qd"
      },
      "source": [
        "**(2) Plot the speedup vs number of processors**"
      ]
    },
    {
      "cell_type": "code",
      "metadata": {
        "colab": {
          "base_uri": "https://localhost:8080/",
          "height": 305
        },
        "id": "jINkyPSh2Mb2",
        "outputId": "c6257768-ad36-40ae-9d8b-1645e65df90d"
      },
      "source": [
        "import matplotlib.pyplot as plt\n",
        "import numpy as np\n",
        "\n",
        "plt.title('Speedup vs number of processors', fontsize=16)\n",
        "plt.plot(times[0] / np.array(times))\n",
        "plt.xlabel(\"Number of proccesses\", fontsize=14)\n",
        "plt.ylabel(\"Speedup (times)\", fontsize=14)\n",
        "plt.xticks(np.arange(0, len(times)), np.arange(1, len(times)+1),  fontsize=14)\n",
        "plt.yticks(fontsize=14)\n",
        "plt.grid()\n",
        "plt.show()"
      ],
      "execution_count": 41,
      "outputs": [
        {
          "output_type": "display_data",
          "data": {
            "image/png": "[encoded data removed]",
            "text/plain": [
              "<Figure size 432x288 with 1 Axes>"
            ]
          },
          "metadata": {
            "needs_background": "light"
          }
        }
      ]
    },
    {
      "cell_type": "markdown",
      "metadata": {
        "id": "9mOU_i3k48rt"
      },
      "source": [
        "**(3) Plot memory consumption vs number of processors**"
      ]
    },
    {
      "cell_type": "code",
      "metadata": {
        "colab": {
          "base_uri": "https://localhost:8080/",
          "height": 305
        },
        "id": "zsaf3xpM2NyS",
        "outputId": "379119d7-873b-4020-be87-14db95d5e699"
      },
      "source": [
        "plt.title('Memory consumption vs number of processors', fontsize=16)\n",
        "plt.plot(np.array(memoryPeak))\n",
        "plt.xlabel(\"Number of proccesses\", fontsize=14)\n",
        "plt.ylabel(\"Memory consumption * 10^7\", fontsize=14)\n",
        "plt.xticks(np.arange(0, len(memoryPeak)), np.arange(1, len(memoryPeak)+1),  fontsize=14)\n",
        "plt.yticks(fontsize=14)\n",
        "plt.grid()\n",
        "plt.show()"
      ],
      "execution_count": 42,
      "outputs": [
        {
          "output_type": "display_data",
          "data": {
            "image/png": "[encoded data removed]",
            "text/plain": [
              "<Figure size 432x288 with 1 Axes>"
            ]
          },
          "metadata": {
            "needs_background": "light"
          }
        }
      ]
    },
    {
      "cell_type": "code",
      "metadata": {
        "colab": {
          "resources": {
            "http://localhost:8080/images/task_8/lion_move.gif": {
              "data": "CjwhRE9DVFlQRSBodG1sPgo8aHRtbCBsYW5nPWVuPgogIDxtZXRhIGNoYXJzZXQ9dXRmLTg+CiAgPG1ldGEgbmFtZT12aWV3cG9ydCBjb250ZW50PSJpbml0aWFsLXNjYWxlPTEsIG1pbmltdW0tc2NhbGU9MSwgd2lkdGg9ZGV2aWNlLXdpZHRoIj4KICA8dGl0bGU+RXJyb3IgNDA0IChOb3QgRm91bmQpISExPC90aXRsZT4KICA8c3R5bGU+CiAgICAqe21hcmdpbjowO3BhZGRpbmc6MH1odG1sLGNvZGV7Zm9udDoxNXB4LzIycHggYXJpYWwsc2Fucy1zZXJpZn1odG1se2JhY2tncm91bmQ6I2ZmZjtjb2xvcjojMjIyO3BhZGRpbmc6MTVweH1ib2R5e21hcmdpbjo3JSBhdXRvIDA7bWF4LXdpZHRoOjM5MHB4O21pbi1oZWlnaHQ6MTgwcHg7cGFkZGluZzozMHB4IDAgMTVweH0qID4gYm9keXtiYWNrZ3JvdW5kOnVybCgvL3d3dy5nb29nbGUuY29tL2ltYWdlcy9lcnJvcnMvcm9ib3QucG5nKSAxMDAlIDVweCBuby1yZXBlYXQ7cGFkZGluZy1yaWdodDoyMDVweH1we21hcmdpbjoxMXB4IDAgMjJweDtvdmVyZmxvdzpoaWRkZW59aW5ze2NvbG9yOiM3Nzc7dGV4dC1kZWNvcmF0aW9uOm5vbmV9YSBpbWd7Ym9yZGVyOjB9QG1lZGlhIHNjcmVlbiBhbmQgKG1heC13aWR0aDo3NzJweCl7Ym9keXtiYWNrZ3JvdW5kOm5vbmU7bWFyZ2luLXRvcDowO21heC13aWR0aDpub25lO3BhZGRpbmctcmlnaHQ6MH19I2xvZ297YmFja2dyb3VuZDp1cmwoLy93d3cuZ29vZ2xlLmNvbS9pbWFnZXMvbG9nb3MvZXJyb3JwYWdlL2Vycm9yX2xvZ28tMTUweDU0LnBuZykgbm8tcmVwZWF0O21hcmdpbi1sZWZ0Oi01cHh9QG1lZGlhIG9ubHkgc2NyZWVuIGFuZCAobWluLXJlc29sdXRpb246MTkyZHBpKXsjbG9nb3tiYWNrZ3JvdW5kOnVybCgvL3d3dy5nb29nbGUuY29tL2ltYWdlcy9sb2dvcy9lcnJvcnBhZ2UvZXJyb3JfbG9nby0xNTB4NTQtMngucG5nKSBuby1yZXBlYXQgMCUgMCUvMTAwJSAxMDAlOy1tb3otYm9yZGVyLWltYWdlOnVybCgvL3d3dy5nb29nbGUuY29tL2ltYWdlcy9sb2dvcy9lcnJvcnBhZ2UvZXJyb3JfbG9nby0xNTB4NTQtMngucG5nKSAwfX1AbWVkaWEgb25seSBzY3JlZW4gYW5kICgtd2Via2l0LW1pbi1kZXZpY2UtcGl4ZWwtcmF0aW86Mil7I2xvZ297YmFja2dyb3VuZDp1cmwoLy93d3cuZ29vZ2xlLmNvbS9pbWFnZXMvbG9nb3MvZXJyb3JwYWdlL2Vycm9yX2xvZ28tMTUweDU0LTJ4LnBuZykgbm8tcmVwZWF0Oy13ZWJraXQtYmFja2dyb3VuZC1zaXplOjEwMCUgMTAwJX19I2xvZ297ZGlzcGxheTppbmxpbmUtYmxvY2s7aGVpZ2h0OjU0cHg7d2lkdGg6MTUwcHh9CiAgPC9zdHlsZT4KICA8YSBocmVmPS8vd3d3Lmdvb2dsZS5jb20vPjxzcGFuIGlkPWxvZ28gYXJpYS1sYWJlbD1Hb29nbGU+PC9zcGFuPjwvYT4KICA8cD48Yj40MDQuPC9iPiA8aW5zPlRoYXTigJlzIGFuIGVycm9yLjwvaW5zPgogIDxwPiAgPGlucz5UaGF04oCZcyBhbGwgd2Uga25vdy48L2lucz4K",
              "ok": false,
              "headers": [
                [
                  "content-length",
                  "1449"
                ],
                [
                  "content-type",
                  "text/html; charset=utf-8"
                ]
              ],
              "status": 404,
              "status_text": ""
            }
          },
          "base_uri": "https://localhost:8080/",
          "height": 38
        },
        "id": "f-k4np5f8BRF",
        "outputId": "57f36ba8-ae9e-43eb-ed82-2bab3d588fb8"
      },
      "source": [
        "from IPython.display import HTML\n",
        "HTML('<img src=\"images/task_8/lion_move.gif\">')"
      ],
      "execution_count": 40,
      "outputs": [
        {
          "output_type": "execute_result",
          "data": {
            "text/html": [
              "<img src=\"images/task_8/lion_move.gif\">"
            ],
            "text/plain": [
              "<IPython.core.display.HTML object>"
            ]
          },
          "metadata": {},
          "execution_count": 40
        }
      ]
    }
  ]
}