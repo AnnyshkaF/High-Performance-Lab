{
  "nbformat": 4,
  "nbformat_minor": 0,
  "metadata": {
    "colab": {
      "name": "task_7.ipynb",
      "provenance": [],
      "collapsed_sections": [],
      "authorship_tag": "ABX9TyNX2m1brnnrkaHva8AJavhO",
      "include_colab_link": true
    },
    "kernelspec": {
      "name": "python3",
      "display_name": "Python 3"
    },
    "language_info": {
      "name": "python"
    }
  },
  "cells": [
    {
      "cell_type": "markdown",
      "metadata": {
        "id": "view-in-github",
        "colab_type": "text"
      },
      "source": [
        "<a href=\"https://colab.research.google.com/github/AnnyshkaF/High-Performance-Lab/blob/main/task_7.ipynb\" target=\"_parent\"><img src=\"https://colab.research.google.com/assets/colab-badge.svg\" alt=\"Open In Colab\"/></a>"
      ]
    },
    {
      "cell_type": "code",
      "metadata": {
        "colab": {
          "base_uri": "https://localhost:8080/"
        },
        "id": "o7R76l3VPVxl",
        "outputId": "0fbb0f30-066e-431f-9f78-20a6ee72865e"
      },
      "source": [
        "! pip install mpi4py"
      ],
      "execution_count": 1,
      "outputs": [
        {
          "output_type": "stream",
          "name": "stdout",
          "text": [
            "Collecting mpi4py\n",
            "  Downloading mpi4py-3.1.2.tar.gz (2.5 MB)\n",
            "\u001b[K     |████████████████████████████████| 2.5 MB 13.8 MB/s \n",
            "\u001b[?25h  Installing build dependencies ... \u001b[?25l\u001b[?25hdone\n",
            "  Getting requirements to build wheel ... \u001b[?25l\u001b[?25hdone\n",
            "    Preparing wheel metadata ... \u001b[?25l\u001b[?25hdone\n",
            "Building wheels for collected packages: mpi4py\n",
            "  Building wheel for mpi4py (PEP 517) ... \u001b[?25l\u001b[?25hdone\n",
            "  Created wheel for mpi4py: filename=mpi4py-3.1.2-cp37-cp37m-linux_x86_64.whl size=2183218 sha256=86f5a13dc4115d2937d3feace04766b43fd6668a3f319a0b9e124e195b54dce8\n",
            "  Stored in directory: /root/.cache/pip/wheels/62/d6/0a/91ea5f998589bc72ca3fcf425c0e364baf8536753e1cd26ea4\n",
            "Successfully built mpi4py\n",
            "Installing collected packages: mpi4py\n",
            "Successfully installed mpi4py-3.1.2\n"
          ]
        }
      ]
    },
    {
      "cell_type": "code",
      "metadata": {
        "colab": {
          "base_uri": "https://localhost:8080/",
          "height": 34
        },
        "id": "T5jF_m-ZOqcW",
        "outputId": "c253427c-4ef0-4c40-845a-353acff22773"
      },
      "source": [
        "import numpy as np\n",
        "import matplotlib.pyplot as plt\n",
        "from tqdm.auto import tqdm\n",
        "from integral import integrate, f, g\n",
        "\n",
        "from mpi4py import MPI\n",
        "# Wider cells\n",
        "from IPython.core.display import display, HTML\n",
        "display(HTML(\"<style>.container { width:95% !important; }</style>\"))\n",
        "\n",
        "# Make sure folder for images exist\n",
        "import os\n",
        "try:\n",
        "    os.mkdir('imgs/')\n",
        "except FileExistsError as err:\n",
        "    pass\n",
        "\n",
        "# Jupyter magic\n",
        "%reload_ext autoreload\n",
        "%autoreload 2\n",
        "%matplotlib inline\n",
        "%autosave 120"
      ],
      "execution_count": 4,
      "outputs": [
        {
          "output_type": "display_data",
          "data": {
            "text/html": [
              "<style>.container { width:95% !important; }</style>"
            ],
            "text/plain": [
              "<IPython.core.display.HTML object>"
            ]
          },
          "metadata": {}
        },
        {
          "output_type": "display_data",
          "data": {
            "application/javascript": [
              "IPython.notebook.set_autosave_interval(120000)"
            ]
          },
          "metadata": {}
        },
        {
          "output_type": "stream",
          "name": "stdout",
          "text": [
            "Autosaving every 120 seconds\n"
          ]
        }
      ]
    },
    {
      "cell_type": "markdown",
      "metadata": {
        "id": "E4hNQkgHO3CW"
      },
      "source": [
        "$S = \\displaystyle \\int_a^b \\displaystyle x^4 \\, dx$ , where $a = -3$ and $b = 3$\n",
        "\n",
        "1. Provide a parallel numerical computation of the integral $S$ using, for example, the trapezoidal approximation $\\displaystyle \\int_{a}^{b} f(x) \\approx S_D = \\displaystyle \\sum_{k = 1}^{N-1} \\displaystyle \\frac{f\\left(a + k \\,\\tau\\right)+ f\\left(a + \\left(k - 1\\right) \\tau\\right) }{2}\\,\\,\\tau$, where $ a + (N - 1)\\tau = b$\n",
        "\n",
        "Analytical expression\n",
        "$S = \\frac{x^5}{5} |_a^b$"
      ]
    },
    {
      "cell_type": "code",
      "metadata": {
        "id": "vGEMi6sFP7z4"
      },
      "source": [
        "D_range = np.linspace(10, 10000, num=1000)\n",
        "limits = [-3, 3]\n",
        "S = g(limits[1]) - g(limits[0]) # exact value\n",
        "err = []\n",
        "for D in D_range:\n",
        "    dd = int(D)\n",
        "    S_d = integrate(f, limits=limits, num_steps=dd)\n",
        "    err.append(S - S_d)"
      ],
      "execution_count": 5,
      "outputs": []
    },
    {
      "cell_type": "code",
      "metadata": {
        "colab": {
          "base_uri": "https://localhost:8080/"
        },
        "id": "twOVqJ3-esrd",
        "outputId": "90600110-7467-407b-fb1f-ae51c202d913"
      },
      "source": [
        "S_d"
      ],
      "execution_count": 6,
      "outputs": [
        {
          "output_type": "execute_result",
          "data": {
            "text/plain": [
              "97.19030591676032"
            ]
          },
          "metadata": {},
          "execution_count": 6
        }
      ]
    },
    {
      "cell_type": "code",
      "metadata": {
        "colab": {
          "base_uri": "https://localhost:8080/",
          "height": 299
        },
        "id": "nPknjZ3DPKwx",
        "outputId": "d0dc4807-556b-4e65-a5a1-50fcef4471d5"
      },
      "source": [
        "plt.semilogy(D_range, err, label=\"|S_d(D) - S|\")   \n",
        "plt.xlabel(\"# of steps\", fontsize=12)\n",
        "plt.ylabel(\"Err (logscale)\", fontsize=12)\n",
        "plt.legend()"
      ],
      "execution_count": null,
      "outputs": [
        {
          "output_type": "execute_result",
          "data": {
            "text/plain": [
              "<matplotlib.legend.Legend at 0x7fe459cbb850>"
            ]
          },
          "metadata": {},
          "execution_count": 16
        },
        {
          "output_type": "display_data",
          "data": {
            "image/png": "[encoded data removed]",
            "text/plain": [
              "<Figure size 432x288 with 1 Axes>"
            ]
          },
          "metadata": {
            "needs_background": "light"
          }
        }
      ]
    },
    {
      "cell_type": "markdown",
      "metadata": {
        "id": "XnFdXiRMPMdf"
      },
      "source": [
        "#Parallel part"
      ]
    },
    {
      "cell_type": "code",
      "metadata": {
        "colab": {
          "base_uri": "https://localhost:8080/"
        },
        "id": "bhAoAnUAPMQg",
        "outputId": "db468d0a-9761-4798-c520-2c8047554ca1"
      },
      "source": [
        "times = []\n",
        "for i in range(1, 8):\n",
        "    time_parallel = %timeit -o -q ! mpirun --allow-run-as-root -n {i} python integral.py -parallel 1\n",
        "    #time_seq = %timeit -o -q !python integral.py #-parallel 0\n",
        "    av_parallel = sum(time_parallel.all_runs)/len(time_parallel.all_runs)\n",
        "    #av_seq = sum(time_seq.all_runs)/len(time_seq.all_runs)\n",
        "    times.append(av_parallel)\n",
        "    print(f\"i: {i}, parallel: {av_parallel}\")#print(f\"i: {i}, parallel: {av_parallel}, seq: {av_seq}\")"
      ],
      "execution_count": null,
      "outputs": [
        {
          "output_type": "stream",
          "name": "stdout",
          "text": [
            "i: 1, parallel: 1.4411289681999733\n",
            "i: 2, parallel: 2.1016683897999426\n",
            "i: 3, parallel: 3.0270393686000263\n",
            "i: 4, parallel: 3.868986245200085\n",
            "i: 5, parallel: 4.751365291999991\n",
            "i: 6, parallel: 5.537750033599923\n",
            "i: 7, parallel: 6.418287874199995\n"
          ]
        }
      ]
    },
    {
      "cell_type": "code",
      "metadata": {
        "colab": {
          "base_uri": "https://localhost:8080/",
          "height": 580
        },
        "id": "v_7vifJQPPh6",
        "outputId": "a718c22f-b94d-45e6-8f55-13bdfd3a3c39"
      },
      "source": [
        "#speedup = [x / y for x,y in times]\n",
        "#plt.plot(speedup)\n",
        "\n",
        "import matplotlib\n",
        "import matplotlib.pyplot as plt\n",
        "import numpy as np\n",
        "\n",
        "t1 = times[0]\n",
        "def SpeedUp(tn):\n",
        "    return t1/tn\n",
        "Speedup = list(map(SpeedUp, times))\n",
        "plt.figure(figsize=(10, 8))\n",
        "num_of_processes = np.linspace(1, len(times), len(times))\n",
        "plt.plot(num_of_processes, Speedup)\n",
        "plt.xlabel('Np', fontsize = 20)\n",
        "plt.ylabel('Speedup = t1/tn', fontsize = 20)\n",
        "plt.suptitle('Speedup vs Np', fontsize = 20)"
      ],
      "execution_count": null,
      "outputs": [
        {
          "output_type": "execute_result",
          "data": {
            "text/plain": [
              "Text(0.5, 0.98, 'Speedup vs Np')"
            ]
          },
          "metadata": {},
          "execution_count": 10
        },
        {
          "output_type": "display_data",
          "data": {
            "image/png": "[encoded data removed]",
            "text/plain": [
              "<Figure size 720x576 with 1 Axes>"
            ]
          },
          "metadata": {
            "needs_background": "light"
          }
        }
      ]
    },
    {
      "cell_type": "code",
      "metadata": {
        "id": "IJp7AQ4BVm0Y"
      },
      "source": [
        "#"
      ],
      "execution_count": null,
      "outputs": []
    },
    {
      "cell_type": "code",
      "metadata": {
        "colab": {
          "base_uri": "https://localhost:8080/"
        },
        "id": "ztSZTontVnUI",
        "outputId": "8856f05b-6a5f-4a2e-82c9-abe6f27c32f5"
      },
      "source": [
        "%%writefile integral.py\n",
        "\n",
        "import numpy as np\n",
        "import matplotlib.pyplot as plt\n",
        "from tqdm.auto import tqdm\n",
        "import argparse\n",
        "from mpi4py import MPI\n",
        "\n",
        "# Make sure folder for images exist\n",
        "import os\n",
        "try:\n",
        "    os.mkdir('imgs/')\n",
        "except FileExistsError as err:\n",
        "    pass\n",
        "\n",
        "\n",
        "def f(x):\n",
        "    \"\"\" Function to integrate\n",
        "    Args:\n",
        "        x: value to count\n",
        "    \"\"\"\n",
        "    return x**4\n",
        "\n",
        "def g(x):\n",
        "    \"\"\" Analytical expression of f(x)\n",
        "    Args:\n",
        "        x: func value\n",
        "    \"\"\"\n",
        "    return x**5/5\n",
        "\n",
        "# from functools import reduce\n",
        "\n",
        "def integrate(f, limits=(5, 7), num_steps=100000):\n",
        "    \"\"\"Compute function integral by using trapezoid rule\n",
        "    Args:\n",
        "        f: function to integrate\n",
        "        g: analytical integral, for self check and error estimation\n",
        "        limits: (a, b)\n",
        "        steps: # of points to split the limit\n",
        "    \"\"\"\n",
        "    steps = np.linspace(limits[0], limits[1], num=num_steps, endpoint=True)\n",
        "    step_size = (limits[1] - limits[0]) / num_steps\n",
        "    func_values = [f(x) for x in steps]\n",
        "    result = (sum(func_values) * 2 - func_values[0] - func_values[1]) * 0.5 * step_size\n",
        "    return result\n",
        "\n",
        "\n",
        "def main(parallel=False):\n",
        "    if parallel:\n",
        "        comm = MPI.COMM_WORLD\n",
        "        rank = comm.Get_rank()\n",
        "        size = comm.Get_size()\n",
        "        \n",
        "        all_nodes = np.linspace(5, 7, num=size + 1)\n",
        "        S_d = integrate(f, limits=all_nodes[rank:rank+2], num_steps=100000 // size)\n",
        "        comm.Barrier()\n",
        "\n",
        "        S_d = comm.gather(S_d, root=0)\n",
        "\n",
        "        if rank == 0:\n",
        "#             print(sum(S_d))\n",
        "            return sum(S_d)\n",
        "    else:\n",
        "        S_d = integrate(f, limits=(5, 7), num_steps=100000)\n",
        "#         print(S_d)\n",
        "        return S_d\n",
        "        \n",
        "    \n",
        "if __name__ == '__main__':\n",
        "    parser = argparse.ArgumentParser(\"Task 7\")\n",
        "    parser.add_argument(\"-parallel\",  help=\"0 - not parallel, 1 - parallel\", type=bool)\n",
        "    args = parser.parse_args()\n",
        "    main(args.parallel)"
      ],
      "execution_count": 2,
      "outputs": [
        {
          "output_type": "stream",
          "name": "stdout",
          "text": [
            "Writing integral.py\n"
          ]
        }
      ]
    }
  ]
}