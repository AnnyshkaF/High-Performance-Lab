{
  "nbformat": 4,
  "nbformat_minor": 0,
  "metadata": {
    "accelerator": "GPU",
    "colab": {
      "name": "task_5.ipynb",
      "provenance": [],
      "collapsed_sections": [],
      "authorship_tag": "ABX9TyP4zlV/cbeLcL8eXMLRa32x",
      "include_colab_link": true
    },
    "kernelspec": {
      "display_name": "Python 3",
      "name": "python3"
    },
    "language_info": {
      "name": "python"
    }
  },
  "cells": [
    {
      "cell_type": "markdown",
      "metadata": {
        "id": "view-in-github",
        "colab_type": "text"
      },
      "source": [
        "<a href=\"https://colab.research.google.com/github/AnnyshkaF/High-Performance-Lab/blob/main/task_5.ipynb\" target=\"_parent\"><img src=\"https://colab.research.google.com/assets/colab-badge.svg\" alt=\"Open In Colab\"/></a>"
      ]
    },
    {
      "cell_type": "code",
      "metadata": {
        "id": "u1mZnk_9Xy1D"
      },
      "source": [
        "! pip install mpi4py"
      ],
      "execution_count": null,
      "outputs": []
    },
    {
      "cell_type": "code",
      "metadata": {
        "colab": {
          "base_uri": "https://localhost:8080/"
        },
        "id": "z7mRSfjVncKx",
        "outputId": "4f716a46-eb6b-40d2-9e85-b1760c6873ef"
      },
      "source": [
        "%%writefile test.py\n",
        "#try to parralell\n",
        "from mpi4py import MPI\n",
        "import matplotlib\n",
        "import matplotlib.pyplot as plt\n",
        "import numpy as np\n",
        "from random import random\n",
        "#import os \n",
        "#os.environ[\"OMP_NUM_THREADS\"] = \"1\"\n",
        "\n",
        "def map_fun(r, x):\n",
        "    return r*x*(1-x)\n",
        "\n",
        "x_i = random()  #initial value of x\n",
        "n = 200  #number of iterations\n",
        "last = 200  #number of last values that we take into account\n",
        "number_r = 100\n",
        "\n",
        "comm = MPI.COMM_WORLD #create a communicator\n",
        "rank = comm.Get_rank() #rank of executing process\n",
        "size = comm.Get_size() #gives number of ranks in comm\n",
        "print(\"my rank is \", rank)\n",
        "\n",
        "t1 = MPI.Wtime()\n",
        "r_values = np.linspace(0, 4, number_r)\n",
        "r_list = np.array_split(r_values,size)[rank]\n",
        "numDataPerRank = int((r_values.size)/size)\n",
        "\n",
        "\n",
        "#sendbuf = np.array([])\n",
        "sendbuf = []\n",
        "R = []\n",
        "x_n = []\n",
        "#for r in r_values[rank*numDataPerRank: (rank+1)*numDataPerRank]:\n",
        "for r in r_list:\n",
        "    x_i = random()\n",
        "    for i in range(n+last):\n",
        "        x_i = map_fun(r, x_i)\n",
        "        if i >= n:\n",
        "            x_n.append(x_i)\n",
        "            R.append(r)\n",
        "\n",
        "\n",
        "sendbuf = x_n\n",
        "  \n",
        "t2 = MPI.Wtime()        \n",
        "#comm.Gather(sendbuf, recvbuf, root=0)\n",
        "recieved_x = comm.gather(sendbuf,root=0) \n",
        "recieved_r = comm.gather(R,root=0) \n",
        "\n",
        "if rank == 0:\n",
        "    recv_x = np.hstack(recieved_x) \n",
        "    recv_r = np.hstack(recieved_r)\n",
        "    #print('Rank: ',rank, ', recvbuf received: ',recvbuf, ', size', len(recvbuf))\n",
        "    #fig = plt.figure()\n",
        "    #plt.plot(recv_r, recv_x, ls='',marker=',')\n",
        "    #plt.show()\n",
        "    #fig.savefig('Bifurcation map with n = {} processes'.format(size))"
      ],
      "execution_count": null,
      "outputs": [
        {
          "name": "stdout",
          "output_type": "stream",
          "text": [
            "Writing test.py\n"
          ]
        }
      ]
    },
    {
      "cell_type": "code",
      "metadata": {
        "colab": {
          "base_uri": "https://localhost:8080/"
        },
        "id": "Qf_AiPkZXW1_",
        "outputId": "e78fc3c1-896b-48e3-d310-b11ed7632083"
      },
      "source": [
        "! mpirun --allow-run-as-root -n 1 python test.py"
      ],
      "execution_count": null,
      "outputs": [
        {
          "name": "stdout",
          "output_type": "stream",
          "text": [
            "my rank is  0\n"
          ]
        }
      ]
    },
    {
      "cell_type": "code",
      "metadata": {
        "colab": {
          "background_save": true
        },
        "id": "cRzK_NkZPcHH"
      },
      "source": [
        "timeit_arr = []\n",
        "for i in range(1, 8):\n",
        "#     timeit_value = %timeit -o -n 10 ! mpiexec mpirun -n {i} python bifurcation_v2.py\n",
        "    timeit_value = %timeit -o -n 1 ! mpirun --allow-run-as-root -n {i} python test.py\n",
        "#    timeit_arr.append(sum(timeit_value.all_runs)/len(timeit_value.all_runs))\n",
        "    timeit_arr.append(sum(timeit_value.all_runs)/len(timeit_value.all_runs))\n",
        "    print(i)"
      ],
      "execution_count": null,
      "outputs": []
    },
    {
      "cell_type": "code",
      "metadata": {
        "id": "lVCtta3Vvkd6"
      },
      "source": [
        "timeit_value = %timeit -o -n 1 ! mpirun --allow-run-as-root -n 1 python test.py"
      ],
      "execution_count": null,
      "outputs": []
    },
    {
      "cell_type": "code",
      "metadata": {
        "colab": {
          "base_uri": "https://localhost:8080/",
          "height": 580
        },
        "id": "coxC7gMuQL8J",
        "outputId": "b2c05ad7-0e78-4488-b525-724834b0d5e6"
      },
      "source": [
        "import matplotlib\n",
        "import matplotlib.pyplot as plt\n",
        "import numpy as np\n",
        "\n",
        "t1 = timeit_arr[0]\n",
        "def SpeedUp(tn):\n",
        "    return t1/tn\n",
        "Speedup = list(map(SpeedUp, timeit_arr))\n",
        "plt.figure(figsize=(10, 8))\n",
        "num_of_processes = np.linspace(1, len(timeit_arr), len(timeit_arr))\n",
        "plt.plot(num_of_processes, Speedup)\n",
        "plt.xlabel('Np', fontsize = 20)\n",
        "plt.ylabel('Speedup = t1/tn', fontsize = 20)\n",
        "plt.suptitle('Speedup vs Np', fontsize = 20)\n"
      ],
      "execution_count": null,
      "outputs": [
        {
          "data": {
            "text/plain": [
              "Text(0.5, 0.98, 'Speedup vs Np')"
            ]
          },
          "execution_count": 7,
          "metadata": {},
          "output_type": "execute_result"
        },
        {
          "data": {
            "image/png": "[encoded data removed]",
            "text/plain": [
              "<Figure size 720x576 with 1 Axes>"
            ]
          },
          "metadata": {},
          "output_type": "display_data"
        }
      ]
    },
    {
      "cell_type": "code",
      "metadata": {
        "colab": {
          "base_uri": "https://localhost:8080/"
        },
        "id": "LMWWpDcicru-",
        "outputId": "213b31e9-8257-4076-f66e-71713e0f5be7"
      },
      "source": [
        "#%%writefile test.py\n",
        "\n",
        "# Bifurcation map\n",
        "\n",
        "from mpi4py import MPI\n",
        "import matplotlib\n",
        "import matplotlib.pyplot as plt\n",
        "import numpy as np\n",
        "from random import random\n",
        "import time\n",
        "#import os \n",
        "#os.environ[\"OMP_NUM_THREADS\"] = \"1\"\n",
        "\n",
        "def map_fun(r, x):\n",
        "    return r*x*(1-x)\n",
        "\n",
        "x_i = random()  #initial value of x\n",
        "n = 200  #number of iterations\n",
        "last = 200  #number of last values that we take into account\n",
        "number_r = 10000\n",
        "\n",
        "comm = MPI.COMM_WORLD #create a communicator\n",
        "rank = comm.Get_rank() #rank of executing process\n",
        "size = comm.Get_size() #gives number of ranks in comm\n",
        "print(\"my rank is \", rank)\n",
        "\n",
        "t1 = MPI.Wtime()\n",
        "r_values = np.linspace(0, 4, number_r)\n",
        "r_list = np.array_split(r_values,size)[rank]\n",
        "numDataPerRank = int((r_values.size)/size)\n",
        "\n",
        "if(rank == 0):\n",
        "    start = time.time()\n",
        "\n",
        "#sendbuf = np.array([])\n",
        "sendbuf = []\n",
        "R = []\n",
        "x_n = []\n",
        "#for r in r_values[rank*numDataPerRank: (rank+1)*numDataPerRank]:\n",
        "for r in r_list:\n",
        "    x_i = random()\n",
        "    for i in range(n+last):\n",
        "        x_i = map_fun(r, x_i)\n",
        "        if i >= n:\n",
        "            x_n.append(x_i)\n",
        "            R.append(r)\n",
        "\n",
        "\n",
        "sendbuf = x_n\n",
        "  \n",
        "t2 = MPI.Wtime()        \n",
        "#comm.Gather(sendbuf, recvbuf, root=0)\n",
        "recieved_x = comm.gather(sendbuf,root=0) \n",
        "recieved_r = comm.gather(R,root=0) \n",
        "\n",
        "if rank == 0:\n",
        "    recv_x = np.hstack(recieved_x) \n",
        "    recv_r = np.hstack(recieved_r)\n",
        "    print('Time: {:.3f}s'.format(time.time() - start))\n",
        "    #print('Rank: ',rank, ', recvbuf received: ',recvbuf, ', size', len(recvbuf))\n",
        "    #fig = plt.figure()\n",
        "    #plt.plot(recv_r, recv_x, ls='',marker=',')\n",
        "    #plt.show()\n",
        "    #fig.savefig('Bifurcation map with n = {} processes'.format(size))"
      ],
      "execution_count": 2,
      "outputs": [
        {
          "output_type": "stream",
          "name": "stdout",
          "text": [
            "my rank is  0\n",
            "Time: 17.808s\n"
          ]
        }
      ]
    },
    {
      "cell_type": "code",
      "metadata": {
        "id": "sxDAHe4XwMYv",
        "outputId": "edb6ddb6-46d9-40d1-ccaa-51509f56e3de",
        "colab": {
          "base_uri": "https://localhost:8080/"
        }
      },
      "source": [
        "! mpirun --allow-run-as-root -n 1 python test.py"
      ],
      "execution_count": 1,
      "outputs": [
        {
          "output_type": "stream",
          "name": "stdout",
          "text": [
            "tcmalloc: large alloc 1600004096 bytes == 0x55d289266000 @  0x7fd8b4667001 0x7fd8b222554f 0x7fd8b2275b58 0x7fd8b2279b17 0x7fd8b2318203 0x55d2867e5544 0x55d2867e5240 0x55d286859627 0x55d2868539ee 0x55d2868536f3 0x55d28691d4c2 0x55d28691d83d 0x55d28691d6e6 0x55d2868f5163 0x55d2868f4e0c 0x7fd8b344fbf7 0x55d2868f4cea\n",
            "tcmalloc: large alloc 1600004096 bytes == 0x55d2e8fea000 @  0x7fd8b46651e7 0x7fd8b222546e 0x7fd8b2275c7b 0x7fd8b227635f 0x7fd8b2318103 0x55d2867e5544 0x55d2867e5240 0x55d286859627 0x55d2868539ee 0x55d2868536f3 0x55d28691d4c2 0x55d28691d83d 0x55d28691d6e6 0x55d2868f5163 0x55d2868f4e0c 0x7fd8b344fbf7 0x55d2868f4cea\n",
            "tcmalloc: large alloc 1600004096 bytes == 0x55d3485cc000 @  0x7fd8b46651e7 0x7fd8b222546e 0x7fd8b2275c7b 0x7fd8b2275d97 0x7fd8b226f4a5 0x7fd8b234029c 0x7fd8b230ddd1 0x55d2867e54b0 0x55d2868d6e1d 0x55d286858e99 0x55d2868539ee 0x55d2868536f3 0x55d28691d4c2 0x55d28691d83d 0x55d28691d6e6 0x55d2868f5163 0x55d2868f4e0c 0x7fd8b344fbf7 0x55d2868f4cea\n",
            "Time: 78.515s\n"
          ]
        }
      ]
    },
    {
      "cell_type": "code",
      "metadata": {
        "id": "dDG7eFnBwe8F",
        "outputId": "209d0355-beb7-4653-864f-b655742a03a2",
        "colab": {
          "base_uri": "https://localhost:8080/"
        }
      },
      "source": [
        "! mpirun --allow-run-as-root -n 2 python test.py"
      ],
      "execution_count": 3,
      "outputs": [
        {
          "output_type": "stream",
          "name": "stdout",
          "text": [
            "tcmalloc: large alloc 1600004096 bytes == 0x558fbf8d6000 @  0x7f9c0cee6001 0x7f9c0aaa454f 0x7f9c0aaf4b58 0x7f9c0aaf8b17 0x7f9c0ab97203 0x558fbbfa6544 0x558fbbfa6240 0x558fbc01a627 0x558fbc0149ee 0x558fbc0146f3 0x558fbc0de4c2 0x558fbc0de83d 0x558fbc0de6e6 0x558fbc0b6163 0x558fbc0b5e0c 0x7f9c0bccebf7 0x558fbc0b5cea\n",
            "Time: 41.098s\n"
          ]
        }
      ]
    },
    {
      "cell_type": "code",
      "metadata": {
        "id": "EteZeFqTwfiw",
        "outputId": "a247d1a9-d980-44ec-ed4c-44715473fa7c",
        "colab": {
          "base_uri": "https://localhost:8080/"
        }
      },
      "source": [
        "! mpirun --allow-run-as-root -n 3 python test.py"
      ],
      "execution_count": 6,
      "outputs": [
        {
          "output_type": "stream",
          "name": "stdout",
          "text": [
            "tcmalloc: large alloc 1600004096 bytes == 0x55fd69b06000 @  0x7f633ee71001 0x7f633ca2f54f 0x7f633ca7fb58 0x7f633ca83b17 0x7f633cb22203 0x55fd65e71544 0x55fd65e71240 0x55fd65ee5627 0x55fd65edf9ee 0x55fd65edf6f3 0x55fd65fa94c2 0x55fd65fa983d 0x55fd65fa96e6 0x55fd65f81163 0x55fd65f80e0c 0x7f633dc59bf7 0x55fd65f80cea\n",
            "Time: 43.004s\n"
          ]
        }
      ]
    },
    {
      "cell_type": "code",
      "metadata": {
        "id": "LP6xJLGzs1E4"
      },
      "source": [
        "timeit_arr = []\n",
        "for i in range(1, 8):\n",
        "#     timeit_value = %timeit -o -n 10 ! mpiexec mpirun -n {i} python bifurcation_v2.py\n",
        "    timeit_value = %timeit -o -n 1 ! mpirun --allow-run-as-root -n {i} python test.py\n",
        "#    timeit_arr.append(sum(timeit_value.all_runs)/len(timeit_value.all_runs))\n",
        "    timeit_arr.append(sum(timeit_value.all_runs)/len(timeit_value.all_runs))\n",
        "    print(i)"
      ],
      "execution_count": null,
      "outputs": []
    },
    {
      "cell_type": "markdown",
      "metadata": {
        "id": "wL3BiX_W1kx7"
      },
      "source": [
        "![2021-11-16_20-39-34.png](data:image/png;base64,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)"
      ]
    }
  ]
}